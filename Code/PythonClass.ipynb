{
 "cells": [
  {
   "cell_type": "markdown",
   "id": "29b12bab-5532-416e-9953-55568ca11cc2",
   "metadata": {},
   "source": [
    "### To run the content of a cell\n",
    "\n",
    "* click Shift+enter\n",
    "* click Ctrl+enter\n",
    "* click the play button on the property bar"
   ]
  },
  {
   "cell_type": "markdown",
   "id": "a78332d2-f67f-412b-a8d5-b6ad30f1edd2",
   "metadata": {},
   "source": [
    "$$\\sqrt{2x^2}$$"
   ]
  },
  {
   "cell_type": "code",
   "execution_count": null,
   "id": "1c7f154d-2526-4132-a933-b473bb03d321",
   "metadata": {},
   "outputs": [],
   "source": []
  },
  {
   "cell_type": "raw",
   "id": "fbe194f6-ea10-45a4-996b-076de5b05e26",
   "metadata": {},
   "source": [
    "$$\\sqrt{2x^2}$$"
   ]
  },
  {
   "cell_type": "markdown",
   "id": "7535c939-6764-45c1-a5b0-881df2595420",
   "metadata": {},
   "source": [
    "## Indentation and Block Structuring"
   ]
  },
  {
   "cell_type": "code",
   "execution_count": 2,
   "id": "9f466e5e-cb9b-4d54-8baa-49cb00f7e1db",
   "metadata": {},
   "outputs": [],
   "source": [
    "n=9\n",
    "r=1\n",
    "\n",
    "while n>0:\n",
    "    r = r*n\n",
    "    n = n-1\n",
    "    if n ==2:\n",
    "        d = 3*r"
   ]
  },
  {
   "cell_type": "code",
   "execution_count": null,
   "id": "a98ef57c-5d1c-4c5c-b12b-4a695428d07e",
   "metadata": {},
   "outputs": [],
   "source": [
    "# assignment is done using =\n",
    "\n",
    "x = 5"
   ]
  },
  {
   "cell_type": "code",
   "execution_count": 7,
   "id": "94f5b009-c676-4e64-a5bb-8cb6278b2d30",
   "metadata": {},
   "outputs": [
    {
     "name": "stdout",
     "output_type": "stream",
     "text": [
      "5\n"
     ]
    }
   ],
   "source": [
    "x=5\n",
    "print(x)"
   ]
  },
  {
   "cell_type": "code",
   "execution_count": 8,
   "id": "51165980-545a-4d44-b5bf-d00f3b0160b9",
   "metadata": {},
   "outputs": [
    {
     "data": {
      "text/plain": [
       "5"
      ]
     },
     "execution_count": 8,
     "metadata": {},
     "output_type": "execute_result"
    }
   ],
   "source": [
    "x"
   ]
  },
  {
   "cell_type": "code",
   "execution_count": 9,
   "id": "cd6e4493-46fb-4f01-b09f-c46c89ad8b6c",
   "metadata": {},
   "outputs": [],
   "source": [
    "x\n",
    "j=4"
   ]
  },
  {
   "cell_type": "code",
   "execution_count": 10,
   "id": "1e1fe5ef-2aad-4346-ae04-d6e6ff2735a4",
   "metadata": {},
   "outputs": [
    {
     "data": {
      "text/plain": [
       "5"
      ]
     },
     "execution_count": 10,
     "metadata": {},
     "output_type": "execute_result"
    }
   ],
   "source": [
    "j=4\n",
    "x"
   ]
  },
  {
   "cell_type": "code",
   "execution_count": 11,
   "id": "1299c5ee-b080-40f4-bde3-a86507d172a7",
   "metadata": {},
   "outputs": [
    {
     "data": {
      "text/plain": [
       "1.2"
      ]
     },
     "execution_count": 11,
     "metadata": {},
     "output_type": "execute_result"
    }
   ],
   "source": [
    "6/5"
   ]
  },
  {
   "cell_type": "code",
   "execution_count": 12,
   "id": "b323808f-ea1b-44a2-bb97-80fe8b893546",
   "metadata": {},
   "outputs": [
    {
     "data": {
      "text/plain": [
       "13"
      ]
     },
     "execution_count": 12,
     "metadata": {},
     "output_type": "execute_result"
    }
   ],
   "source": [
    "8+5"
   ]
  },
  {
   "cell_type": "code",
   "execution_count": 18,
   "id": "313b45e6-8308-40ba-b9f6-7abffa71f87c",
   "metadata": {},
   "outputs": [
    {
     "name": "stdout",
     "output_type": "stream",
     "text": [
      "5 is <class 'int'>\n",
      "5.2 is <class 'float'>\n",
      "(5+3j) is <class 'complex'>\n",
      "Python is <class 'str'>\n",
      "True is <class 'bool'>\n"
     ]
    }
   ],
   "source": [
    "x=5\n",
    "print(x, 'is', type(x))\n",
    "\n",
    "x=5.2\n",
    "print(x, 'is', type(x))\n",
    "\n",
    "x=5 + 3j\n",
    "print(x, 'is', type(x))\n",
    "\n",
    "x='Python'\n",
    "print(x, 'is', type(x))\n",
    "\n",
    "x=True\n",
    "print(x, 'is', type(x))"
   ]
  },
  {
   "cell_type": "markdown",
   "id": "3b4335ae-01d0-4404-be84-12eac235f060",
   "metadata": {},
   "source": [
    "## List"
   ]
  },
  {
   "cell_type": "code",
   "execution_count": 19,
   "id": "5297c153-2200-4947-99f0-c7c232e47a1d",
   "metadata": {},
   "outputs": [
    {
     "name": "stdout",
     "output_type": "stream",
     "text": [
      "[1, 2, 3] is <class 'list'>\n"
     ]
    }
   ],
   "source": [
    "x=[1,2,3]\n",
    "print(x, 'is', type(x))"
   ]
  },
  {
   "cell_type": "code",
   "execution_count": 20,
   "id": "5e07be55-d675-4d39-bb7c-e470a5bc13f0",
   "metadata": {},
   "outputs": [
    {
     "data": {
      "text/plain": [
       "['Banana', 'Cheese', 'Fries']"
      ]
     },
     "execution_count": 20,
     "metadata": {},
     "output_type": "execute_result"
    }
   ],
   "source": [
    "grocery_list=['Banana', 'Cheese', 'Fries']\n",
    "grocery_list"
   ]
  },
  {
   "cell_type": "code",
   "execution_count": 21,
   "id": "af3dc3b4-b533-4d2b-b687-581a2bcc480a",
   "metadata": {},
   "outputs": [
    {
     "data": {
      "text/plain": [
       "['USA', 3, False, 'England']"
      ]
     },
     "execution_count": 21,
     "metadata": {},
     "output_type": "execute_result"
    }
   ],
   "source": [
    "## Mixture\n",
    "\n",
    "mix_list=['USA', 3, False, 'England']\n",
    "mix_list"
   ]
  },
  {
   "cell_type": "code",
   "execution_count": 34,
   "id": "545b5a10-17ef-44f0-b101-b38905938b32",
   "metadata": {},
   "outputs": [
    {
     "data": {
      "text/plain": [
       "['USA', 3, False, 'England', [1, 2, 3], ['Boy', 'Girl']]"
      ]
     },
     "execution_count": 34,
     "metadata": {},
     "output_type": "execute_result"
    }
   ],
   "source": [
    "mix_list=['USA', 3, False, 'England', [1,2,3], ['Boy', 'Girl']]\n",
    "mix_list"
   ]
  },
  {
   "cell_type": "code",
   "execution_count": 35,
   "id": "5ecb2efd-7f29-43d1-8e4a-da2eaf680059",
   "metadata": {},
   "outputs": [
    {
     "data": {
      "text/plain": [
       "6"
      ]
     },
     "execution_count": 35,
     "metadata": {},
     "output_type": "execute_result"
    }
   ],
   "source": [
    "## Get list length\n",
    "\n",
    "len(mix_list)"
   ]
  },
  {
   "cell_type": "markdown",
   "id": "e6d93982-8fa1-4b96-905b-ece02ed9f4d3",
   "metadata": {},
   "source": [
    "### Indexing a list"
   ]
  },
  {
   "cell_type": "code",
   "execution_count": 36,
   "id": "0abf01af-1a6f-49a7-87ad-1e613b90cc70",
   "metadata": {},
   "outputs": [
    {
     "name": "stdout",
     "output_type": "stream",
     "text": [
      "USA\n",
      "3\n",
      "False\n",
      "England\n",
      "[1, 2, 3]\n",
      "['Boy', 'Girl']\n"
     ]
    }
   ],
   "source": [
    "print(mix_list[0])\n",
    "print(mix_list[1])\n",
    "print(mix_list[2])\n",
    "print(mix_list[3])\n",
    "print(mix_list[4])\n",
    "print(mix_list[5])"
   ]
  },
  {
   "cell_type": "code",
   "execution_count": 37,
   "id": "d1e29d1b-38ae-497f-b91b-40ff522653df",
   "metadata": {},
   "outputs": [
    {
     "name": "stdout",
     "output_type": "stream",
     "text": [
      "['Boy', 'Girl']\n",
      "[1, 2, 3]\n"
     ]
    }
   ],
   "source": [
    "print(mix_list[-1])\n",
    "print(mix_list[-2])"
   ]
  },
  {
   "cell_type": "code",
   "execution_count": 38,
   "id": "8b553903-a318-43f1-b0d9-ca999599d4aa",
   "metadata": {},
   "outputs": [
    {
     "name": "stdout",
     "output_type": "stream",
     "text": [
      "['USA', 3, False, 'England', [1, 2, 3]]\n"
     ]
    }
   ],
   "source": [
    "print(mix_list[0:5])"
   ]
  },
  {
   "cell_type": "code",
   "execution_count": 41,
   "id": "2262f4b5-e9d2-429b-b232-ee867db99a2c",
   "metadata": {},
   "outputs": [
    {
     "name": "stdout",
     "output_type": "stream",
     "text": [
      "['France', 4, False, 'England', [1, 2, 3]]\n"
     ]
    }
   ],
   "source": [
    "print(mix_list[:5])"
   ]
  },
  {
   "cell_type": "code",
   "execution_count": 42,
   "id": "91acc40d-fc81-4587-bd45-46dcebe2b327",
   "metadata": {},
   "outputs": [
    {
     "name": "stdout",
     "output_type": "stream",
     "text": [
      "['France', 4, False, 'England', [1, 2, 3], ['Boy', 'Girl']]\n"
     ]
    }
   ],
   "source": [
    "print(mix_list[0:])"
   ]
  },
  {
   "cell_type": "markdown",
   "id": "4182a1a5-3b09-4c4c-8ebe-6b882566fb1b",
   "metadata": {},
   "source": [
    "## Modifying a Python List"
   ]
  },
  {
   "cell_type": "code",
   "execution_count": 39,
   "id": "b35c6108-8bec-41f1-90f6-3f36c3bbdb97",
   "metadata": {},
   "outputs": [
    {
     "name": "stdout",
     "output_type": "stream",
     "text": [
      "['France', 3, False, 'England', [1, 2, 3], ['Boy', 'Girl']]\n"
     ]
    }
   ],
   "source": [
    "mix_list[0] = 'France'\n",
    "print(mix_list)"
   ]
  },
  {
   "cell_type": "code",
   "execution_count": 40,
   "id": "0221a320-df17-4c81-8e01-6c625dda1734",
   "metadata": {},
   "outputs": [
    {
     "name": "stdout",
     "output_type": "stream",
     "text": [
      "['France', 4, False, 'England', [1, 2, 3], ['Boy', 'Girl']]\n"
     ]
    }
   ],
   "source": [
    "mix_list[1] = 4\n",
    "print(mix_list)"
   ]
  },
  {
   "cell_type": "code",
   "execution_count": 44,
   "id": "1cbb749d-3ce8-4138-8d6b-3e5cf72b2db6",
   "metadata": {},
   "outputs": [
    {
     "data": {
      "text/plain": [
       "[1, 2, 3, 4, 5, 6]"
      ]
     },
     "execution_count": 44,
     "metadata": {},
     "output_type": "execute_result"
    }
   ],
   "source": [
    "x=[1,2,3,4]\n",
    "x[len(x):]=[5,6]\n",
    "x"
   ]
  },
  {
   "cell_type": "code",
   "execution_count": 45,
   "id": "0f30d397-7626-44d2-b53e-365fd6995958",
   "metadata": {},
   "outputs": [
    {
     "data": {
      "text/plain": [
       "[1, 2, 3, 4, 5]"
      ]
     },
     "execution_count": 45,
     "metadata": {},
     "output_type": "execute_result"
    }
   ],
   "source": [
    "x=[1,2,3,4]\n",
    "x.append(5)\n",
    "x"
   ]
  },
  {
   "cell_type": "code",
   "execution_count": 46,
   "id": "c55f868d-969f-4758-abf3-944a18cc5cf0",
   "metadata": {},
   "outputs": [],
   "source": [
    "x.append([6,7])"
   ]
  },
  {
   "cell_type": "code",
   "execution_count": 47,
   "id": "8ef73036-8580-489f-a211-a7952ae02468",
   "metadata": {},
   "outputs": [
    {
     "data": {
      "text/plain": [
       "[1, 2, 3, 4, 5, [6, 7]]"
      ]
     },
     "execution_count": 47,
     "metadata": {},
     "output_type": "execute_result"
    }
   ],
   "source": [
    "x"
   ]
  },
  {
   "cell_type": "code",
   "execution_count": 50,
   "id": "7e6faf1f-8949-4025-a9f0-a499d675ec40",
   "metadata": {},
   "outputs": [
    {
     "data": {
      "text/plain": [
       "[1, 2, 3, 4, 6, 7]"
      ]
     },
     "execution_count": 50,
     "metadata": {},
     "output_type": "execute_result"
    }
   ],
   "source": [
    "x=[1,2,3,4]\n",
    "x.extend([6,7])\n",
    "x"
   ]
  },
  {
   "cell_type": "code",
   "execution_count": null,
   "id": "a09c98bf-1f19-4e5f-95a5-bc2b809df545",
   "metadata": {},
   "outputs": [],
   "source": [
    "x=[1,2,3,4]"
   ]
  },
  {
   "cell_type": "markdown",
   "id": "c7530fb8-a9df-4aac-a116-2576f3af5ba4",
   "metadata": {},
   "source": [
    "## June 05"
   ]
  },
  {
   "cell_type": "code",
   "execution_count": 51,
   "id": "180249f2-b655-42ef-a91c-f2919a2f9824",
   "metadata": {},
   "outputs": [
    {
     "data": {
      "text/plain": [
       "[1, 2, 'Hello World', 3, 4]"
      ]
     },
     "execution_count": 51,
     "metadata": {},
     "output_type": "execute_result"
    }
   ],
   "source": [
    "x= [1,2,3,4]\n",
    "x.insert(2, 'Hello World')\n",
    "x"
   ]
  },
  {
   "cell_type": "code",
   "execution_count": 52,
   "id": "b659cefa-d623-4683-8dcd-b66490acee22",
   "metadata": {},
   "outputs": [],
   "source": [
    "x.insert(-2, 'Hello again')"
   ]
  },
  {
   "cell_type": "code",
   "execution_count": 53,
   "id": "273e0d52-538c-46b0-b966-3689593fdf4a",
   "metadata": {},
   "outputs": [
    {
     "data": {
      "text/plain": [
       "[1, 2, 'Hello World', 'Hello again', 3, 4]"
      ]
     },
     "execution_count": 53,
     "metadata": {},
     "output_type": "execute_result"
    }
   ],
   "source": [
    "x"
   ]
  },
  {
   "cell_type": "code",
   "execution_count": 54,
   "id": "88254cdf-9eda-4fb4-b744-87d3456d1650",
   "metadata": {},
   "outputs": [
    {
     "name": "stdout",
     "output_type": "stream",
     "text": [
      "[1, 2, 'Hello again', 3, 4]\n"
     ]
    }
   ],
   "source": [
    "del x[2]\n",
    "print(x)"
   ]
  },
  {
   "cell_type": "code",
   "execution_count": 56,
   "id": "d9ca3f6e-d992-444a-9923-772c450c6a39",
   "metadata": {},
   "outputs": [
    {
     "data": {
      "text/plain": [
       "[1, 2, 3, 4]"
      ]
     },
     "execution_count": 56,
     "metadata": {},
     "output_type": "execute_result"
    }
   ],
   "source": [
    "x.remove('Hello again')\n",
    "x"
   ]
  },
  {
   "cell_type": "code",
   "execution_count": 57,
   "id": "a672691b-4d09-43f5-9f62-515b931eb6c9",
   "metadata": {},
   "outputs": [
    {
     "data": {
      "text/plain": [
       "[4, 3, 2, 1]"
      ]
     },
     "execution_count": 57,
     "metadata": {},
     "output_type": "execute_result"
    }
   ],
   "source": [
    "x.reverse()\n",
    "x"
   ]
  },
  {
   "cell_type": "code",
   "execution_count": 58,
   "id": "9e8afcc4-78c8-4af8-bb05-76f064931691",
   "metadata": {},
   "outputs": [
    {
     "data": {
      "text/plain": [
       "['banana', 'apple', 'orange']"
      ]
     },
     "execution_count": 58,
     "metadata": {},
     "output_type": "execute_result"
    }
   ],
   "source": [
    "y=['orange', 'apple', 'banana']\n",
    "y.reverse()\n",
    "y"
   ]
  },
  {
   "cell_type": "code",
   "execution_count": 59,
   "id": "658b0f92-c6cf-4e00-a7b2-0c896d7dcebf",
   "metadata": {},
   "outputs": [
    {
     "data": {
      "text/plain": [
       "[-9, 0, 2, 3, 4, 8, 87]"
      ]
     },
     "execution_count": 59,
     "metadata": {},
     "output_type": "execute_result"
    }
   ],
   "source": [
    "x=[8, 3, 4, 0, 2, -9, 87]\n",
    "x.sort()\n",
    "x"
   ]
  },
  {
   "cell_type": "code",
   "execution_count": 60,
   "id": "a4fa5910-1e1e-4091-a3da-600aaedd0940",
   "metadata": {},
   "outputs": [
    {
     "data": {
      "text/plain": [
       "[87, 8, 4, 3, 2, 0, -9]"
      ]
     },
     "execution_count": 60,
     "metadata": {},
     "output_type": "execute_result"
    }
   ],
   "source": [
    "x=[8, 3, 4, 0, 2, -9, 87]\n",
    "x.sort(reverse=True)\n",
    "x"
   ]
  },
  {
   "cell_type": "code",
   "execution_count": 61,
   "id": "39024ff8-d1d3-4fa9-bb33-b6cf89c4c7b1",
   "metadata": {},
   "outputs": [
    {
     "data": {
      "text/plain": [
       "['apple', 'banana', 'orange']"
      ]
     },
     "execution_count": 61,
     "metadata": {},
     "output_type": "execute_result"
    }
   ],
   "source": [
    "y.sort()\n",
    "y"
   ]
  },
  {
   "cell_type": "code",
   "execution_count": 62,
   "id": "eff9a264-1a2d-4bb2-9fdc-a0f84726ca6b",
   "metadata": {},
   "outputs": [
    {
     "ename": "TypeError",
     "evalue": "'<' not supported between instances of 'int' and 'str'",
     "output_type": "error",
     "traceback": [
      "\u001b[0;31m---------------------------------------------------------------------------\u001b[0m",
      "\u001b[0;31mTypeError\u001b[0m                                 Traceback (most recent call last)",
      "\u001b[0;32m/tmp/ipykernel_982/2656987367.py\u001b[0m in \u001b[0;36m<module>\u001b[0;34m\u001b[0m\n\u001b[1;32m      1\u001b[0m \u001b[0mz\u001b[0m\u001b[0;34m=\u001b[0m\u001b[0;34m[\u001b[0m\u001b[0;34m'Life'\u001b[0m\u001b[0;34m,\u001b[0m \u001b[0;34m'is'\u001b[0m\u001b[0;34m,\u001b[0m \u001b[0;34m'good'\u001b[0m\u001b[0;34m,\u001b[0m \u001b[0;36m5\u001b[0m\u001b[0;34m,\u001b[0m \u001b[0;36m6\u001b[0m\u001b[0;34m]\u001b[0m\u001b[0;34m\u001b[0m\u001b[0;34m\u001b[0m\u001b[0m\n\u001b[0;32m----> 2\u001b[0;31m \u001b[0mz\u001b[0m\u001b[0;34m.\u001b[0m\u001b[0msort\u001b[0m\u001b[0;34m(\u001b[0m\u001b[0;34m)\u001b[0m\u001b[0;34m\u001b[0m\u001b[0;34m\u001b[0m\u001b[0m\n\u001b[0m",
      "\u001b[0;31mTypeError\u001b[0m: '<' not supported between instances of 'int' and 'str'"
     ]
    }
   ],
   "source": [
    "z=['Life', 'is', 'good', 5, 6]\n",
    "z.sort()"
   ]
  },
  {
   "cell_type": "code",
   "execution_count": 63,
   "id": "2457f825-b4f7-4063-bfb7-95f585a4938e",
   "metadata": {},
   "outputs": [
    {
     "data": {
      "text/plain": [
       "[[2, 3], [2, 9], [3, 5], [4, 1]]"
      ]
     },
     "execution_count": 63,
     "metadata": {},
     "output_type": "execute_result"
    }
   ],
   "source": [
    "x=[[3,5], [2,9], [2,3], [4,1]]\n",
    "x.sort()\n",
    "x"
   ]
  },
  {
   "cell_type": "code",
   "execution_count": 64,
   "id": "b7940f23-e4f4-4a84-bdd6-11684fa6606f",
   "metadata": {},
   "outputs": [
    {
     "data": {
      "text/plain": [
       "[4, 3, 2, 1]"
      ]
     },
     "execution_count": 64,
     "metadata": {},
     "output_type": "execute_result"
    }
   ],
   "source": [
    "x=[1,2,3,4]\n",
    "z=sorted(x, reverse=True)\n",
    "z"
   ]
  },
  {
   "cell_type": "code",
   "execution_count": 65,
   "id": "5c425716-9b49-42dd-ab83-043a5795d06d",
   "metadata": {},
   "outputs": [
    {
     "data": {
      "text/plain": [
       "False"
      ]
     },
     "execution_count": 65,
     "metadata": {},
     "output_type": "execute_result"
    }
   ],
   "source": [
    "## checking membership\n",
    "\n",
    "grocery_list=['Banana', 'Cheese', 'Fries']\n",
    "\n",
    "'Rice' in grocery_list"
   ]
  },
  {
   "cell_type": "code",
   "execution_count": 68,
   "id": "3e44a26a-69d3-4fce-963c-08d3e2c75992",
   "metadata": {},
   "outputs": [
    {
     "data": {
      "text/plain": [
       "True"
      ]
     },
     "execution_count": 68,
     "metadata": {},
     "output_type": "execute_result"
    }
   ],
   "source": [
    "'Banana' in grocery_list"
   ]
  },
  {
   "cell_type": "code",
   "execution_count": 69,
   "id": "26c57a36-d704-429a-b975-b15d16cecc9b",
   "metadata": {},
   "outputs": [
    {
     "data": {
      "text/plain": [
       "True"
      ]
     },
     "execution_count": 69,
     "metadata": {},
     "output_type": "execute_result"
    }
   ],
   "source": [
    "'Rice' not in grocery_list"
   ]
  },
  {
   "cell_type": "code",
   "execution_count": 70,
   "id": "ebd3d84d-623c-41c7-8fa0-953f43d50c64",
   "metadata": {},
   "outputs": [
    {
     "data": {
      "text/plain": [
       "[1, 2, 3, 4, 5, 6]"
      ]
     },
     "execution_count": 70,
     "metadata": {},
     "output_type": "execute_result"
    }
   ],
   "source": [
    "[1,2,3] + [4,5,6]  ## concatenation"
   ]
  },
  {
   "cell_type": "code",
   "execution_count": 71,
   "id": "885ef81e-1085-43c7-aa0a-b9cedad2b342",
   "metadata": {},
   "outputs": [
    {
     "data": {
      "text/plain": [
       "[1, 2, 3, 1, 2, 3, 1, 2, 3, 1, 2, 3, 1, 2, 3]"
      ]
     },
     "execution_count": 71,
     "metadata": {},
     "output_type": "execute_result"
    }
   ],
   "source": [
    "[1,2,3]*5"
   ]
  },
  {
   "cell_type": "code",
   "execution_count": 72,
   "id": "25589a00-2248-4cc2-bad2-b8b9279449bd",
   "metadata": {},
   "outputs": [
    {
     "data": {
      "text/plain": [
       "2"
      ]
     },
     "execution_count": 72,
     "metadata": {},
     "output_type": "execute_result"
    }
   ],
   "source": [
    "grocery_list.index('Fries')"
   ]
  },
  {
   "cell_type": "code",
   "execution_count": 73,
   "id": "99a3d268-6384-4d3b-9ef7-adad236ba2ee",
   "metadata": {},
   "outputs": [
    {
     "ename": "ValueError",
     "evalue": "'Rice' is not in list",
     "output_type": "error",
     "traceback": [
      "\u001b[0;31m---------------------------------------------------------------------------\u001b[0m",
      "\u001b[0;31mValueError\u001b[0m                                Traceback (most recent call last)",
      "\u001b[0;32m/tmp/ipykernel_982/3428052360.py\u001b[0m in \u001b[0;36m<module>\u001b[0;34m\u001b[0m\n\u001b[0;32m----> 1\u001b[0;31m \u001b[0mgrocery_list\u001b[0m\u001b[0;34m.\u001b[0m\u001b[0mindex\u001b[0m\u001b[0;34m(\u001b[0m\u001b[0;34m'Rice'\u001b[0m\u001b[0;34m)\u001b[0m\u001b[0;34m\u001b[0m\u001b[0;34m\u001b[0m\u001b[0m\n\u001b[0m",
      "\u001b[0;31mValueError\u001b[0m: 'Rice' is not in list"
     ]
    }
   ],
   "source": [
    "grocery_list.index('Rice')"
   ]
  },
  {
   "cell_type": "code",
   "execution_count": 74,
   "id": "1296b5ab-68ee-44a6-bce8-517c0e3f4832",
   "metadata": {},
   "outputs": [
    {
     "data": {
      "text/plain": [
       "-9"
      ]
     },
     "execution_count": 74,
     "metadata": {},
     "output_type": "execute_result"
    }
   ],
   "source": [
    "x=[8, 3, 4, 0, 2, -9, 87]\n",
    "min(x)"
   ]
  },
  {
   "cell_type": "code",
   "execution_count": 75,
   "id": "cd0a27f2-b938-4470-a9ec-439ef3a60306",
   "metadata": {},
   "outputs": [
    {
     "data": {
      "text/plain": [
       "87"
      ]
     },
     "execution_count": 75,
     "metadata": {},
     "output_type": "execute_result"
    }
   ],
   "source": [
    "max(x)"
   ]
  },
  {
   "cell_type": "code",
   "execution_count": 77,
   "id": "54fefedb-3ecc-46a7-abde-caeacfc58c7d",
   "metadata": {},
   "outputs": [
    {
     "ename": "TypeError",
     "evalue": "'<' not supported between instances of 'int' and 'str'",
     "output_type": "error",
     "traceback": [
      "\u001b[0;31m---------------------------------------------------------------------------\u001b[0m",
      "\u001b[0;31mTypeError\u001b[0m                                 Traceback (most recent call last)",
      "\u001b[0;32m/tmp/ipykernel_982/3990105292.py\u001b[0m in \u001b[0;36m<module>\u001b[0;34m\u001b[0m\n\u001b[1;32m      1\u001b[0m \u001b[0mz\u001b[0m\u001b[0;34m=\u001b[0m\u001b[0;34m[\u001b[0m\u001b[0;34m'Life'\u001b[0m\u001b[0;34m,\u001b[0m \u001b[0;34m'is'\u001b[0m\u001b[0;34m,\u001b[0m \u001b[0;34m'good'\u001b[0m\u001b[0;34m,\u001b[0m \u001b[0;36m5\u001b[0m\u001b[0;34m,\u001b[0m \u001b[0;36m6\u001b[0m\u001b[0;34m]\u001b[0m\u001b[0;34m\u001b[0m\u001b[0;34m\u001b[0m\u001b[0m\n\u001b[0;32m----> 2\u001b[0;31m \u001b[0mmin\u001b[0m\u001b[0;34m(\u001b[0m\u001b[0mz\u001b[0m\u001b[0;34m)\u001b[0m\u001b[0;34m\u001b[0m\u001b[0;34m\u001b[0m\u001b[0m\n\u001b[0m",
      "\u001b[0;31mTypeError\u001b[0m: '<' not supported between instances of 'int' and 'str'"
     ]
    }
   ],
   "source": [
    "z=['Life', 'is', 'good', 5, 6]\n",
    "min(z)"
   ]
  },
  {
   "cell_type": "code",
   "execution_count": 80,
   "id": "5c4d6b55-07ea-40ee-b54e-825da7bd0d63",
   "metadata": {},
   "outputs": [
    {
     "data": {
      "text/plain": [
       "0"
      ]
     },
     "execution_count": 80,
     "metadata": {},
     "output_type": "execute_result"
    }
   ],
   "source": [
    "x=[1,2,2,2,2,2,2,2,3,3,3,4,5,5,557,8]\n",
    "x.count('Hello world')"
   ]
  },
  {
   "cell_type": "markdown",
   "id": "04594651-882b-4c94-b890-f1bc0275948c",
   "metadata": {},
   "source": [
    "## Your Turn\n",
    "\n",
    "1. What would be the result of \n",
    "```python\n",
    "len([[1,2]]*3)\n",
    "```\n",
    "\n",
    "2. What is the difference between using *in* operator and a list's *index()* method?\n",
    "\n",
    "3. Which of the following code will raise an exception:\n",
    "\n",
    "* ```python\n",
    "min([\"a\", \"b\", \"c\"])\n",
    "```\n",
    "* ```python\n",
    "max([1,2, 'three'])\n",
    "```\n",
    "\n",
    "* ```python\n",
    "[1,2,3].count(\"one\")\n",
    "```"
   ]
  },
  {
   "cell_type": "code",
   "execution_count": 81,
   "id": "477b7e18-b30b-4853-bfdc-f5de382d14e7",
   "metadata": {},
   "outputs": [
    {
     "data": {
      "text/plain": [
       "'a'"
      ]
     },
     "execution_count": 81,
     "metadata": {},
     "output_type": "execute_result"
    }
   ],
   "source": [
    "min([\"a\", \"b\", \"c\"])"
   ]
  },
  {
   "cell_type": "code",
   "execution_count": 82,
   "id": "4eb5d868-ff82-4ad4-9649-1e94fd5c76fc",
   "metadata": {},
   "outputs": [
    {
     "data": {
      "text/plain": [
       "0"
      ]
     },
     "execution_count": 82,
     "metadata": {},
     "output_type": "execute_result"
    }
   ],
   "source": [
    "[1,2,3].count(\"one\")"
   ]
  },
  {
   "cell_type": "code",
   "execution_count": 83,
   "id": "38b64b39-01cf-482b-a235-d477cf60b7fe",
   "metadata": {},
   "outputs": [
    {
     "data": {
      "text/plain": [
       "0"
      ]
     },
     "execution_count": 83,
     "metadata": {},
     "output_type": "execute_result"
    }
   ],
   "source": [
    "[\"a\", \"b\", \"c\"].index('a')"
   ]
  },
  {
   "cell_type": "code",
   "execution_count": 84,
   "id": "2237fea5-c12f-415d-85f0-69bfe2490327",
   "metadata": {},
   "outputs": [
    {
     "data": {
      "text/plain": [
       "True"
      ]
     },
     "execution_count": 84,
     "metadata": {},
     "output_type": "execute_result"
    }
   ],
   "source": [
    "'a' in [\"a\", \"b\", \"c\"]"
   ]
  },
  {
   "cell_type": "code",
   "execution_count": 85,
   "id": "dabfb781-f928-49e9-b69c-20e51972ba8f",
   "metadata": {},
   "outputs": [
    {
     "ename": "ValueError",
     "evalue": "'z' is not in list",
     "output_type": "error",
     "traceback": [
      "\u001b[0;31m---------------------------------------------------------------------------\u001b[0m",
      "\u001b[0;31mValueError\u001b[0m                                Traceback (most recent call last)",
      "\u001b[0;32m/tmp/ipykernel_982/341918463.py\u001b[0m in \u001b[0;36m<module>\u001b[0;34m\u001b[0m\n\u001b[0;32m----> 1\u001b[0;31m \u001b[0;34m[\u001b[0m\u001b[0;34m\"a\"\u001b[0m\u001b[0;34m,\u001b[0m \u001b[0;34m\"b\"\u001b[0m\u001b[0;34m,\u001b[0m \u001b[0;34m\"c\"\u001b[0m\u001b[0;34m]\u001b[0m\u001b[0;34m.\u001b[0m\u001b[0mindex\u001b[0m\u001b[0;34m(\u001b[0m\u001b[0;34m'z'\u001b[0m\u001b[0;34m)\u001b[0m\u001b[0;34m\u001b[0m\u001b[0;34m\u001b[0m\u001b[0m\n\u001b[0m",
      "\u001b[0;31mValueError\u001b[0m: 'z' is not in list"
     ]
    }
   ],
   "source": [
    "[\"a\", \"b\", \"c\"].index('z')"
   ]
  },
  {
   "cell_type": "code",
   "execution_count": 86,
   "id": "9aaf7063-1a5b-440c-80b8-db2946141e41",
   "metadata": {},
   "outputs": [
    {
     "data": {
      "text/plain": [
       "False"
      ]
     },
     "execution_count": 86,
     "metadata": {},
     "output_type": "execute_result"
    }
   ],
   "source": [
    "'z' in [\"a\", \"b\", \"c\"]"
   ]
  },
  {
   "cell_type": "code",
   "execution_count": 94,
   "id": "462d4b28-dd95-4a40-abe0-6fc44c933658",
   "metadata": {},
   "outputs": [
    {
     "data": {
      "text/plain": [
       "3"
      ]
     },
     "execution_count": 94,
     "metadata": {},
     "output_type": "execute_result"
    }
   ],
   "source": [
    "len([[1,2,6,7]]*3)"
   ]
  },
  {
   "cell_type": "code",
   "execution_count": 89,
   "id": "56b3b514-1fb9-4bf0-991f-64ad151dd594",
   "metadata": {},
   "outputs": [
    {
     "data": {
      "text/plain": [
       "3"
      ]
     },
     "execution_count": 89,
     "metadata": {},
     "output_type": "execute_result"
    }
   ],
   "source": [
    "len([[1,2]])*3"
   ]
  },
  {
   "cell_type": "code",
   "execution_count": 90,
   "id": "c0a95867-9d22-4424-ae7b-7c88f25d1f32",
   "metadata": {},
   "outputs": [
    {
     "data": {
      "text/plain": [
       "[[1, 2], [1, 2], [1, 2]]"
      ]
     },
     "execution_count": 90,
     "metadata": {},
     "output_type": "execute_result"
    }
   ],
   "source": [
    "[[1,2]]*3"
   ]
  },
  {
   "cell_type": "code",
   "execution_count": 91,
   "id": "e163b50b-6692-4d2f-91f5-9aeea6a1034d",
   "metadata": {},
   "outputs": [
    {
     "data": {
      "text/plain": [
       "3"
      ]
     },
     "execution_count": 91,
     "metadata": {},
     "output_type": "execute_result"
    }
   ],
   "source": [
    "len([[1, 2], [1, 2], [1, 2]])"
   ]
  },
  {
   "cell_type": "code",
   "execution_count": null,
   "id": "2fd2c719-cecd-4555-992d-dafc06a8b74d",
   "metadata": {},
   "outputs": [],
   "source": [
    "[1,2]"
   ]
  },
  {
   "cell_type": "code",
   "execution_count": 93,
   "id": "3a0402ec-7bb3-4545-85d4-c48f79132145",
   "metadata": {},
   "outputs": [
    {
     "data": {
      "text/plain": [
       "[1, 1, 1]"
      ]
     },
     "execution_count": 93,
     "metadata": {},
     "output_type": "execute_result"
    }
   ],
   "source": [
    "[1]*3"
   ]
  },
  {
   "cell_type": "code",
   "execution_count": 92,
   "id": "0bc796c5-b5df-4474-ac8a-f051b6bf2a00",
   "metadata": {},
   "outputs": [
    {
     "data": {
      "text/plain": [
       "[[1, 2], [1, 2], [1, 2]]"
      ]
     },
     "execution_count": 92,
     "metadata": {},
     "output_type": "execute_result"
    }
   ],
   "source": [
    "[[1,2]]*3"
   ]
  },
  {
   "cell_type": "markdown",
   "id": "d2dcc3c7-9c9e-424f-97dc-3d9abc7f338d",
   "metadata": {},
   "source": [
    "## Nested List and Deep Copies"
   ]
  },
  {
   "cell_type": "code",
   "execution_count": 95,
   "id": "68f70eff-e479-4c04-a387-d99af404eca5",
   "metadata": {},
   "outputs": [
    {
     "data": {
      "text/plain": [
       "3"
      ]
     },
     "execution_count": 95,
     "metadata": {},
     "output_type": "execute_result"
    }
   ],
   "source": [
    "m=[[0,1,2], [10,11,12], [20, 21, 22]]\n",
    "len(m)"
   ]
  },
  {
   "cell_type": "code",
   "execution_count": 99,
   "id": "29c20f56-c46d-4fd8-b778-81273c3a89d9",
   "metadata": {},
   "outputs": [
    {
     "data": {
      "text/plain": [
       "22"
      ]
     },
     "execution_count": 99,
     "metadata": {},
     "output_type": "execute_result"
    }
   ],
   "source": [
    "m[2][2]"
   ]
  },
  {
   "cell_type": "code",
   "execution_count": 105,
   "id": "a253c1c6-f794-477e-a1e5-7f58cb940564",
   "metadata": {},
   "outputs": [
    {
     "data": {
      "text/plain": [
       "[[0], 1]"
      ]
     },
     "execution_count": 105,
     "metadata": {},
     "output_type": "execute_result"
    }
   ],
   "source": [
    "nested=[0]\n",
    "original = [nested, 1]\n",
    "original"
   ]
  },
  {
   "cell_type": "code",
   "execution_count": 106,
   "id": "196edbd4-b6cc-4e36-acc4-818fecace274",
   "metadata": {},
   "outputs": [],
   "source": [
    "nested[0] = 'Zero'"
   ]
  },
  {
   "cell_type": "code",
   "execution_count": 107,
   "id": "f126b2be-5297-4eb0-91a7-60fd853a9d5c",
   "metadata": {},
   "outputs": [
    {
     "data": {
      "text/plain": [
       "[['Zero'], 1]"
      ]
     },
     "execution_count": 107,
     "metadata": {},
     "output_type": "execute_result"
    }
   ],
   "source": [
    "original"
   ]
  },
  {
   "cell_type": "code",
   "execution_count": 103,
   "id": "7291c1e0-7ebf-45d9-bbf4-377439403a7c",
   "metadata": {},
   "outputs": [],
   "source": [
    "nested=[2]"
   ]
  },
  {
   "cell_type": "code",
   "execution_count": 104,
   "id": "60afe46b-eacc-4b98-8e73-3e49dc554533",
   "metadata": {},
   "outputs": [
    {
     "data": {
      "text/plain": [
       "[['Zero'], 1]"
      ]
     },
     "execution_count": 104,
     "metadata": {},
     "output_type": "execute_result"
    }
   ],
   "source": [
    "original"
   ]
  },
  {
   "cell_type": "code",
   "execution_count": 117,
   "id": "bae1758f-f551-4d92-81f4-7b18e5cb58c3",
   "metadata": {},
   "outputs": [],
   "source": [
    "original = [[0], 1]\n",
    "shallow=original[:]\n",
    "\n",
    "import copy\n",
    "deep = copy.deepcopy(original)"
   ]
  },
  {
   "cell_type": "code",
   "execution_count": 118,
   "id": "49c258d8-f3eb-40ba-9478-ce8dc5a207a6",
   "metadata": {},
   "outputs": [
    {
     "data": {
      "text/plain": [
       "[[0], 2]"
      ]
     },
     "execution_count": 118,
     "metadata": {},
     "output_type": "execute_result"
    }
   ],
   "source": [
    "shallow[1] = 2\n",
    "shallow"
   ]
  },
  {
   "cell_type": "code",
   "execution_count": 119,
   "id": "dcb0ab51-5011-410b-9857-d941b74554b0",
   "metadata": {},
   "outputs": [
    {
     "data": {
      "text/plain": [
       "[[0], 1]"
      ]
     },
     "execution_count": 119,
     "metadata": {},
     "output_type": "execute_result"
    }
   ],
   "source": [
    "original"
   ]
  },
  {
   "cell_type": "code",
   "execution_count": 120,
   "id": "9a612134-67a9-46d7-9d03-43a695f8b145",
   "metadata": {},
   "outputs": [
    {
     "data": {
      "text/plain": [
       "[['Zero'], 2]"
      ]
     },
     "execution_count": 120,
     "metadata": {},
     "output_type": "execute_result"
    }
   ],
   "source": [
    "shallow[0][0] = 'Zero'\n",
    "shallow"
   ]
  },
  {
   "cell_type": "code",
   "execution_count": 121,
   "id": "285b5a41-eb24-40f8-ab2a-b9ef39e9ea5a",
   "metadata": {},
   "outputs": [
    {
     "data": {
      "text/plain": [
       "[['Zero'], 1]"
      ]
     },
     "execution_count": 121,
     "metadata": {},
     "output_type": "execute_result"
    }
   ],
   "source": [
    "original"
   ]
  },
  {
   "cell_type": "code",
   "execution_count": 122,
   "id": "717043b4-49a6-4caf-b277-eb03ee513a51",
   "metadata": {},
   "outputs": [],
   "source": [
    "deep[0][0] = 'Five'"
   ]
  },
  {
   "cell_type": "code",
   "execution_count": 123,
   "id": "0f25b57c-01d1-46ac-9058-36f04d8e9dde",
   "metadata": {},
   "outputs": [
    {
     "data": {
      "text/plain": [
       "[['Five'], 1]"
      ]
     },
     "execution_count": 123,
     "metadata": {},
     "output_type": "execute_result"
    }
   ],
   "source": [
    "deep"
   ]
  },
  {
   "cell_type": "code",
   "execution_count": 124,
   "id": "d410e5c5-3703-48bc-9e4b-c8bb815e97f2",
   "metadata": {},
   "outputs": [
    {
     "data": {
      "text/plain": [
       "[['Zero'], 1]"
      ]
     },
     "execution_count": 124,
     "metadata": {},
     "output_type": "execute_result"
    }
   ],
   "source": [
    "original"
   ]
  },
  {
   "cell_type": "markdown",
   "id": "ea85b1a4-50d9-4eda-958d-0719b01864cc",
   "metadata": {},
   "source": [
    "# Tuples"
   ]
  },
  {
   "cell_type": "code",
   "execution_count": 125,
   "id": "c00545a8-7f6e-4c56-a354-48777e256a36",
   "metadata": {},
   "outputs": [
    {
     "name": "stdout",
     "output_type": "stream",
     "text": [
      "('a', 'b', 12) is <class 'tuple'>\n"
     ]
    }
   ],
   "source": [
    "x=('a', 'b', 12)\n",
    "print(x, 'is', type(x))"
   ]
  },
  {
   "cell_type": "code",
   "execution_count": 126,
   "id": "5d1438ba-d415-4e5d-88e9-aa6313695467",
   "metadata": {},
   "outputs": [
    {
     "data": {
      "text/plain": [
       "'a'"
      ]
     },
     "execution_count": 126,
     "metadata": {},
     "output_type": "execute_result"
    }
   ],
   "source": [
    "x[0]"
   ]
  },
  {
   "cell_type": "code",
   "execution_count": 127,
   "id": "1da8a290-f545-4049-b4ee-c440d47094b2",
   "metadata": {},
   "outputs": [
    {
     "data": {
      "text/plain": [
       "('b', 12)"
      ]
     },
     "execution_count": 127,
     "metadata": {},
     "output_type": "execute_result"
    }
   ],
   "source": [
    "x[1:]"
   ]
  },
  {
   "cell_type": "code",
   "execution_count": 128,
   "id": "61b135ea-e521-4dc4-bbaf-9820e0b553c2",
   "metadata": {},
   "outputs": [
    {
     "data": {
      "text/plain": [
       "5"
      ]
     },
     "execution_count": 128,
     "metadata": {},
     "output_type": "execute_result"
    }
   ],
   "source": [
    "x=(1,3,4,5)\n",
    "max(x)"
   ]
  },
  {
   "cell_type": "code",
   "execution_count": 129,
   "id": "7b6d8702-4fbf-46fe-b96b-3643a0eb0d4b",
   "metadata": {},
   "outputs": [
    {
     "data": {
      "text/plain": [
       "1"
      ]
     },
     "execution_count": 129,
     "metadata": {},
     "output_type": "execute_result"
    }
   ],
   "source": [
    "min(x)"
   ]
  },
  {
   "cell_type": "code",
   "execution_count": 130,
   "id": "0f2016d4-1551-45ac-b510-46575a80c2f7",
   "metadata": {},
   "outputs": [
    {
     "data": {
      "text/plain": [
       "False"
      ]
     },
     "execution_count": 130,
     "metadata": {},
     "output_type": "execute_result"
    }
   ],
   "source": [
    "7 in x"
   ]
  },
  {
   "cell_type": "code",
   "execution_count": 132,
   "id": "2ecb29a3-ff53-43d4-aa56-82669711912e",
   "metadata": {},
   "outputs": [
    {
     "ename": "TypeError",
     "evalue": "'tuple' object does not support item assignment",
     "output_type": "error",
     "traceback": [
      "\u001b[0;31m---------------------------------------------------------------------------\u001b[0m",
      "\u001b[0;31mTypeError\u001b[0m                                 Traceback (most recent call last)",
      "\u001b[0;32m/tmp/ipykernel_982/1377602123.py\u001b[0m in \u001b[0;36m<module>\u001b[0;34m\u001b[0m\n\u001b[0;32m----> 1\u001b[0;31m \u001b[0mx\u001b[0m\u001b[0;34m[\u001b[0m\u001b[0;36m1\u001b[0m\u001b[0;34m]\u001b[0m \u001b[0;34m=\u001b[0m \u001b[0;36m12\u001b[0m\u001b[0;34m\u001b[0m\u001b[0;34m\u001b[0m\u001b[0m\n\u001b[0m",
      "\u001b[0;31mTypeError\u001b[0m: 'tuple' object does not support item assignment"
     ]
    }
   ],
   "source": [
    "x[1] = 12"
   ]
  },
  {
   "cell_type": "code",
   "execution_count": 133,
   "id": "c00cfc7c-8203-43c0-8ea4-f4f86541b4d3",
   "metadata": {},
   "outputs": [
    {
     "data": {
      "text/plain": [
       "(1, 3, 4, 5, 1, 3, 4, 5)"
      ]
     },
     "execution_count": 133,
     "metadata": {},
     "output_type": "execute_result"
    }
   ],
   "source": [
    "x+x"
   ]
  },
  {
   "cell_type": "code",
   "execution_count": 152,
   "id": "364c6e68-b595-4fbd-8f89-2d2d08b0157e",
   "metadata": {},
   "outputs": [
    {
     "data": {
      "text/plain": [
       "(1, 2, 3, 1, 2, 3)"
      ]
     },
     "execution_count": 152,
     "metadata": {},
     "output_type": "execute_result"
    }
   ],
   "source": [
    "x=(1,2,3)\n",
    "x+x"
   ]
  },
  {
   "cell_type": "code",
   "execution_count": 157,
   "id": "e1ad9bb3-7a31-4c7b-9989-5e3090f93af2",
   "metadata": {},
   "outputs": [
    {
     "data": {
      "text/plain": [
       "(1, 2, 3, 1, 900)"
      ]
     },
     "execution_count": 157,
     "metadata": {},
     "output_type": "execute_result"
    }
   ],
   "source": [
    "x+(1,900)"
   ]
  },
  {
   "cell_type": "code",
   "execution_count": 156,
   "id": "b7296317-f597-4cc6-ab9b-b268de79e1b6",
   "metadata": {},
   "outputs": [
    {
     "data": {
      "text/plain": [
       "(1, 2, 3, 1, 2, 3, 1, 2, 3)"
      ]
     },
     "execution_count": 156,
     "metadata": {},
     "output_type": "execute_result"
    }
   ],
   "source": [
    "x*3"
   ]
  },
  {
   "cell_type": "code",
   "execution_count": 154,
   "id": "c0701450-f1bc-4cc9-a12e-e7a77566196f",
   "metadata": {},
   "outputs": [
    {
     "data": {
      "text/plain": [
       "4"
      ]
     },
     "execution_count": 154,
     "metadata": {},
     "output_type": "execute_result"
    }
   ],
   "source": [
    "2+2"
   ]
  },
  {
   "cell_type": "code",
   "execution_count": 155,
   "id": "115eb2f9-9539-406e-8bc5-78fe7e83b56b",
   "metadata": {},
   "outputs": [
    {
     "data": {
      "text/plain": [
       "4"
      ]
     },
     "execution_count": 155,
     "metadata": {},
     "output_type": "execute_result"
    }
   ],
   "source": [
    "2*2"
   ]
  },
  {
   "cell_type": "code",
   "execution_count": null,
   "id": "3a52f03a-77e9-40f6-81c7-ec627e6bb8be",
   "metadata": {},
   "outputs": [],
   "source": []
  },
  {
   "cell_type": "code",
   "execution_count": 134,
   "id": "1756b6e1-9ac4-4895-ada5-70424daa395f",
   "metadata": {
    "tags": []
   },
   "outputs": [
    {
     "data": {
      "text/plain": [
       "(1, 3, 4, 5, 1, 3, 4, 5)"
      ]
     },
     "execution_count": 134,
     "metadata": {},
     "output_type": "execute_result"
    }
   ],
   "source": [
    "x*2"
   ]
  },
  {
   "cell_type": "code",
   "execution_count": 137,
   "id": "2512aca3-9386-4108-9c13-413ad2ecbdd0",
   "metadata": {},
   "outputs": [],
   "source": [
    "j=(2,)"
   ]
  },
  {
   "cell_type": "code",
   "execution_count": 138,
   "id": "783f4492-8155-4570-aae8-8b45aef6278d",
   "metadata": {},
   "outputs": [
    {
     "data": {
      "text/plain": [
       "tuple"
      ]
     },
     "execution_count": 138,
     "metadata": {},
     "output_type": "execute_result"
    }
   ],
   "source": [
    "type(j)"
   ]
  },
  {
   "cell_type": "code",
   "execution_count": 139,
   "id": "d7422064-2999-4ab2-8340-97e6f9d866c4",
   "metadata": {},
   "outputs": [
    {
     "data": {
      "text/plain": [
       "24"
      ]
     },
     "execution_count": 139,
     "metadata": {},
     "output_type": "execute_result"
    }
   ],
   "source": [
    "(2+2)*6"
   ]
  },
  {
   "cell_type": "code",
   "execution_count": 140,
   "id": "4bd652a4-453e-4705-94b0-0ef068917069",
   "metadata": {},
   "outputs": [
    {
     "data": {
      "text/plain": [
       "14"
      ]
     },
     "execution_count": 140,
     "metadata": {},
     "output_type": "execute_result"
    }
   ],
   "source": [
    "2+2*6"
   ]
  },
  {
   "cell_type": "code",
   "execution_count": 141,
   "id": "35b96582-9e8a-4cac-8a44-24457e08a4b0",
   "metadata": {},
   "outputs": [],
   "source": [
    "x= 1,2,3,4"
   ]
  },
  {
   "cell_type": "code",
   "execution_count": 142,
   "id": "ba07fe33-55ee-4807-bf5b-ecb312b619e2",
   "metadata": {},
   "outputs": [
    {
     "data": {
      "text/plain": [
       "tuple"
      ]
     },
     "execution_count": 142,
     "metadata": {},
     "output_type": "execute_result"
    }
   ],
   "source": [
    "type(x)"
   ]
  },
  {
   "cell_type": "code",
   "execution_count": 143,
   "id": "6142476e-6d5f-43f9-8fe9-b43865c39b47",
   "metadata": {},
   "outputs": [],
   "source": [
    "a=1\n",
    "b=2\n",
    "c=3\n",
    "d=4"
   ]
  },
  {
   "cell_type": "code",
   "execution_count": 144,
   "id": "48701549-bf2f-45c3-b56d-a1da2795ada0",
   "metadata": {},
   "outputs": [],
   "source": [
    "(a,b,c,d) = (1,2,3,4)"
   ]
  },
  {
   "cell_type": "code",
   "execution_count": 145,
   "id": "555bf153-3729-42c7-8d56-1fabe893ef7f",
   "metadata": {},
   "outputs": [
    {
     "data": {
      "text/plain": [
       "1"
      ]
     },
     "execution_count": 145,
     "metadata": {},
     "output_type": "execute_result"
    }
   ],
   "source": [
    "a"
   ]
  },
  {
   "cell_type": "code",
   "execution_count": 146,
   "id": "721f5a23-a954-47f0-815b-8f68d7a8e14b",
   "metadata": {},
   "outputs": [
    {
     "data": {
      "text/plain": [
       "2"
      ]
     },
     "execution_count": 146,
     "metadata": {},
     "output_type": "execute_result"
    }
   ],
   "source": [
    "b"
   ]
  },
  {
   "cell_type": "code",
   "execution_count": 147,
   "id": "932b1288-f0b2-4d94-9e10-2c026726041f",
   "metadata": {},
   "outputs": [
    {
     "data": {
      "text/plain": [
       "3"
      ]
     },
     "execution_count": 147,
     "metadata": {},
     "output_type": "execute_result"
    }
   ],
   "source": [
    "c"
   ]
  },
  {
   "cell_type": "code",
   "execution_count": 148,
   "id": "bc7f60f3-7b37-4d3f-9a6f-6555be47bf29",
   "metadata": {},
   "outputs": [
    {
     "data": {
      "text/plain": [
       "4"
      ]
     },
     "execution_count": 148,
     "metadata": {},
     "output_type": "execute_result"
    }
   ],
   "source": [
    "d"
   ]
  },
  {
   "cell_type": "code",
   "execution_count": 149,
   "id": "c8f51fa6-de3e-407d-9233-97639a0604b8",
   "metadata": {},
   "outputs": [],
   "source": [
    "a,b,c,d = 1,2,3,4"
   ]
  },
  {
   "cell_type": "code",
   "execution_count": 150,
   "id": "7a30bc88-e243-432b-8a65-60827b40fe76",
   "metadata": {},
   "outputs": [
    {
     "data": {
      "text/plain": [
       "[1, 2, 3, 4]"
      ]
     },
     "execution_count": 150,
     "metadata": {},
     "output_type": "execute_result"
    }
   ],
   "source": [
    "list((1,2,3,4))"
   ]
  },
  {
   "cell_type": "code",
   "execution_count": 151,
   "id": "5515d739-0da8-4a8c-a00c-9ffe5852aeab",
   "metadata": {},
   "outputs": [
    {
     "data": {
      "text/plain": [
       "(1, 2, 3, 4)"
      ]
     },
     "execution_count": 151,
     "metadata": {},
     "output_type": "execute_result"
    }
   ],
   "source": [
    "tuple([1,2,3,4])"
   ]
  },
  {
   "cell_type": "code",
   "execution_count": 158,
   "id": "c9cd2256-a1ce-4935-bc07-4ebd609b4c5c",
   "metadata": {},
   "outputs": [
    {
     "data": {
      "text/plain": [
       "list"
      ]
     },
     "execution_count": 158,
     "metadata": {},
     "output_type": "execute_result"
    }
   ],
   "source": [
    "x=[1,2,3,4]\n",
    "type(x)"
   ]
  },
  {
   "cell_type": "code",
   "execution_count": 159,
   "id": "7c038e12-dcad-4995-ac9e-3e9ce8e77afe",
   "metadata": {},
   "outputs": [
    {
     "data": {
      "text/plain": [
       "tuple"
      ]
     },
     "execution_count": 159,
     "metadata": {},
     "output_type": "execute_result"
    }
   ],
   "source": [
    "y=tuple(x)\n",
    "type(y)"
   ]
  },
  {
   "cell_type": "markdown",
   "id": "ef76259a-d384-4a4a-8adc-1e7f7a1fdec5",
   "metadata": {},
   "source": [
    "# June 11\n",
    "\n",
    "## Set"
   ]
  },
  {
   "cell_type": "code",
   "execution_count": 3,
   "id": "00980404-f496-489e-819d-fe25c40ecf0d",
   "metadata": {},
   "outputs": [
    {
     "data": {
      "text/plain": [
       "{1, 2, 3, 5}"
      ]
     },
     "execution_count": 3,
     "metadata": {},
     "output_type": "execute_result"
    }
   ],
   "source": [
    "x={1, 2, 3, 1, 3, 5}\n",
    "x"
   ]
  },
  {
   "cell_type": "code",
   "execution_count": 4,
   "id": "325e3562-5b12-4b3e-b0eb-93ff7a2759d1",
   "metadata": {},
   "outputs": [
    {
     "data": {
      "text/plain": [
       "{1, 2, 3, 5, 6}"
      ]
     },
     "execution_count": 4,
     "metadata": {},
     "output_type": "execute_result"
    }
   ],
   "source": [
    "x.add(6)\n",
    "x"
   ]
  },
  {
   "cell_type": "code",
   "execution_count": 5,
   "id": "9704b091-c1eb-4834-abb6-b60e9ebcb264",
   "metadata": {},
   "outputs": [
    {
     "data": {
      "text/plain": [
       "{1, 2, 3, 5}"
      ]
     },
     "execution_count": 5,
     "metadata": {},
     "output_type": "execute_result"
    }
   ],
   "source": [
    "x.remove(6)\n",
    "x"
   ]
  },
  {
   "cell_type": "code",
   "execution_count": 7,
   "id": "540bb104-a7b9-4ae6-a21e-af76b9c4455e",
   "metadata": {},
   "outputs": [
    {
     "data": {
      "text/plain": [
       "True"
      ]
     },
     "execution_count": 7,
     "metadata": {},
     "output_type": "execute_result"
    }
   ],
   "source": [
    "4 not in x"
   ]
  },
  {
   "cell_type": "code",
   "execution_count": 11,
   "id": "aaf62dfe-3cb6-4280-8b88-4cda40a1d695",
   "metadata": {},
   "outputs": [
    {
     "data": {
      "text/plain": [
       "{1, 7, 8, 9}"
      ]
     },
     "execution_count": 11,
     "metadata": {},
     "output_type": "execute_result"
    }
   ],
   "source": [
    "y = set([1,7,8,9])\n",
    "y"
   ]
  },
  {
   "cell_type": "code",
   "execution_count": 9,
   "id": "c7a44df9-1e91-41a1-b1cc-5262c5ec149a",
   "metadata": {},
   "outputs": [
    {
     "data": {
      "text/plain": [
       "{1, 2, 3, 5, 7, 8, 9}"
      ]
     },
     "execution_count": 9,
     "metadata": {},
     "output_type": "execute_result"
    }
   ],
   "source": [
    "x|y  ## x union y \n",
    "\n",
    "\"\"\"\n",
    "Union combines two sets. \n",
    "That is, it takes the unique values between the two sets and combines them.\n",
    "\"\"\""
   ]
  },
  {
   "cell_type": "code",
   "execution_count": 10,
   "id": "f66baa88-5bf0-48a8-8c49-a85155fc8ab7",
   "metadata": {},
   "outputs": [
    {
     "data": {
      "text/plain": [
       "{1}"
      ]
     },
     "execution_count": 10,
     "metadata": {},
     "output_type": "execute_result"
    }
   ],
   "source": [
    "x&y ## x intersection y\n",
    "\n",
    "\"\"\"\n",
    "Intersection picks what is common between two sets. \n",
    "\"\"\""
   ]
  },
  {
   "cell_type": "code",
   "execution_count": 14,
   "id": "61c22be7-4123-4475-8c69-bf1a57be2261",
   "metadata": {},
   "outputs": [
    {
     "data": {
      "text/plain": [
       "{2, 3, 5, 7, 8, 9}"
      ]
     },
     "execution_count": 14,
     "metadata": {},
     "output_type": "execute_result"
    }
   ],
   "source": [
    "\"\"\"\n",
    "Symmetric difference returns elements in one set or the other but not both. \n",
    "\"\"\"\n",
    "\n",
    "x^y ## symmetric difference"
   ]
  },
  {
   "cell_type": "code",
   "execution_count": 15,
   "id": "497687e1-b256-45e7-bce2-0b6cc84999ca",
   "metadata": {},
   "outputs": [
    {
     "ename": "TypeError",
     "evalue": "unhashable type: 'set'",
     "output_type": "error",
     "traceback": [
      "\u001b[0;31m---------------------------------------------------------------------------\u001b[0m",
      "\u001b[0;31mTypeError\u001b[0m                                 Traceback (most recent call last)",
      "\u001b[0;32m/tmp/ipykernel_13375/1422922479.py\u001b[0m in \u001b[0;36m<module>\u001b[0;34m\u001b[0m\n\u001b[0;32m----> 1\u001b[0;31m \u001b[0;34m{\u001b[0m\u001b[0;36m1\u001b[0m\u001b[0;34m,\u001b[0m\u001b[0;36m2\u001b[0m\u001b[0;34m,\u001b[0m\u001b[0;36m3\u001b[0m\u001b[0;34m,\u001b[0m\u001b[0;36m4\u001b[0m\u001b[0;34m,\u001b[0m \u001b[0;34m{\u001b[0m\u001b[0;36m3\u001b[0m\u001b[0;34m,\u001b[0m\u001b[0;36m45\u001b[0m\u001b[0;34m}\u001b[0m\u001b[0;34m}\u001b[0m\u001b[0;34m\u001b[0m\u001b[0;34m\u001b[0m\u001b[0m\n\u001b[0m",
      "\u001b[0;31mTypeError\u001b[0m: unhashable type: 'set'"
     ]
    }
   ],
   "source": [
    "{1,2,3,4, {3,45}}"
   ]
  },
  {
   "cell_type": "markdown",
   "id": "3b6d6611-de9d-4aab-8b50-019ff6afc656",
   "metadata": {},
   "source": [
    "### Frozen Set\n",
    "\n",
    "Because sets are not immutable and hashable, they can't belong to another set. To solve this problem, Python uses the **frozenset**. The frozenset is the same as a set but it is immutable. That is, you can not change a frozenset after creation."
   ]
  },
  {
   "cell_type": "code",
   "execution_count": 16,
   "id": "d997793e-e7e0-4090-9cf0-5c27a4e7fc9a",
   "metadata": {},
   "outputs": [
    {
     "data": {
      "text/plain": [
       "frozenset({1, 2, 3, 5})"
      ]
     },
     "execution_count": 16,
     "metadata": {},
     "output_type": "execute_result"
    }
   ],
   "source": [
    "x=set([1,2,3,1,3,5])\n",
    "z=frozenset(x)\n",
    "z"
   ]
  },
  {
   "cell_type": "code",
   "execution_count": 17,
   "id": "4bec0572-e72c-4c99-8ac4-e650b722eaed",
   "metadata": {},
   "outputs": [
    {
     "ename": "AttributeError",
     "evalue": "'frozenset' object has no attribute 'add'",
     "output_type": "error",
     "traceback": [
      "\u001b[0;31m---------------------------------------------------------------------------\u001b[0m",
      "\u001b[0;31mAttributeError\u001b[0m                            Traceback (most recent call last)",
      "\u001b[0;32m/tmp/ipykernel_13375/3246886688.py\u001b[0m in \u001b[0;36m<module>\u001b[0;34m\u001b[0m\n\u001b[0;32m----> 1\u001b[0;31m \u001b[0mz\u001b[0m\u001b[0;34m.\u001b[0m\u001b[0madd\u001b[0m\u001b[0;34m(\u001b[0m\u001b[0;36m6\u001b[0m\u001b[0;34m)\u001b[0m\u001b[0;34m\u001b[0m\u001b[0;34m\u001b[0m\u001b[0m\n\u001b[0m",
      "\u001b[0;31mAttributeError\u001b[0m: 'frozenset' object has no attribute 'add'"
     ]
    }
   ],
   "source": [
    "z.add(6)"
   ]
  },
  {
   "cell_type": "code",
   "execution_count": 18,
   "id": "79315813-fb83-4830-a05f-b284804a98f4",
   "metadata": {},
   "outputs": [],
   "source": [
    "x.add(z)"
   ]
  },
  {
   "cell_type": "code",
   "execution_count": 19,
   "id": "65cc9e19-5130-4105-8fda-ee27aaa8e2d8",
   "metadata": {},
   "outputs": [
    {
     "data": {
      "text/plain": [
       "{1, 2, 3, 5, frozenset({1, 2, 3, 5})}"
      ]
     },
     "execution_count": 19,
     "metadata": {},
     "output_type": "execute_result"
    }
   ],
   "source": [
    "x"
   ]
  },
  {
   "cell_type": "markdown",
   "id": "d653eb56-e519-44e9-a845-08c3fe1f11bc",
   "metadata": {},
   "source": [
    "### Do it yourself\n",
    "\n",
    "\n",
    "1. create a set for the following list: [1,2,5,1,0,2,3,1,1, (1,2,3)]\n",
    "2. How many elements would the set have?"
   ]
  },
  {
   "cell_type": "code",
   "execution_count": 22,
   "id": "79ab8a10-ed13-4f4c-947f-219cb9705ad1",
   "metadata": {},
   "outputs": [
    {
     "data": {
      "text/plain": [
       "{(1, 2, 3), 0, 1, 2, 3, 5}"
      ]
     },
     "execution_count": 22,
     "metadata": {},
     "output_type": "execute_result"
    }
   ],
   "source": [
    "x=set([1,2,5,1,0,2,3,1,1, (1,2,3)])\n",
    "x"
   ]
  },
  {
   "cell_type": "code",
   "execution_count": 23,
   "id": "49622078-fc9a-4945-b155-ee37291fae2b",
   "metadata": {},
   "outputs": [
    {
     "data": {
      "text/plain": [
       "6"
      ]
     },
     "execution_count": 23,
     "metadata": {},
     "output_type": "execute_result"
    }
   ],
   "source": [
    "len(x)"
   ]
  },
  {
   "cell_type": "markdown",
   "id": "a891ac79-9f19-410e-972f-0b428d1a8439",
   "metadata": {},
   "source": [
    "## Strings\n",
    "\n",
    "### Strings as a sequence of characters"
   ]
  },
  {
   "cell_type": "code",
   "execution_count": 32,
   "id": "7296567b-eead-4e07-8193-137d175c785f",
   "metadata": {},
   "outputs": [
    {
     "data": {
      "text/plain": [
       "'H'"
      ]
     },
     "execution_count": 32,
     "metadata": {},
     "output_type": "execute_result"
    }
   ],
   "source": [
    "x='Hello '\n",
    "\n",
    "x[0]"
   ]
  },
  {
   "cell_type": "code",
   "execution_count": 25,
   "id": "d4b9ffad-e05a-4823-9b43-ceedfa0ef724",
   "metadata": {},
   "outputs": [
    {
     "data": {
      "text/plain": [
       "'o'"
      ]
     },
     "execution_count": 25,
     "metadata": {},
     "output_type": "execute_result"
    }
   ],
   "source": [
    "x[-1]"
   ]
  },
  {
   "cell_type": "code",
   "execution_count": 26,
   "id": "2eb185e1-f4ad-4893-a9a2-eef17bac8c6f",
   "metadata": {},
   "outputs": [
    {
     "data": {
      "text/plain": [
       "'llo'"
      ]
     },
     "execution_count": 26,
     "metadata": {},
     "output_type": "execute_result"
    }
   ],
   "source": [
    "x[2:]"
   ]
  },
  {
   "cell_type": "code",
   "execution_count": 27,
   "id": "30310b19-a1f0-4777-ac83-c41f2310aa7a",
   "metadata": {},
   "outputs": [
    {
     "name": "stdout",
     "output_type": "stream",
     "text": [
      "Hello\n",
      " World\n"
     ]
    }
   ],
   "source": [
    "print('Hello\\n World')"
   ]
  },
  {
   "cell_type": "code",
   "execution_count": 29,
   "id": "22c2b223-756b-4773-9661-1803c6039f36",
   "metadata": {
    "tags": []
   },
   "outputs": [
    {
     "data": {
      "text/plain": [
       "'Goodbye'"
      ]
     },
     "execution_count": 29,
     "metadata": {},
     "output_type": "execute_result"
    }
   ],
   "source": [
    "x='Goodbye\\n'\n",
    "x[:-1]"
   ]
  },
  {
   "cell_type": "code",
   "execution_count": 33,
   "id": "ca8d9698-323d-49f0-9dd0-7aba96a1f9a1",
   "metadata": {},
   "outputs": [
    {
     "data": {
      "text/plain": [
       "6"
      ]
     },
     "execution_count": 33,
     "metadata": {},
     "output_type": "execute_result"
    }
   ],
   "source": [
    "len(x)"
   ]
  },
  {
   "cell_type": "markdown",
   "id": "9dbc4e9c-db1a-45b5-9667-a31717652e0e",
   "metadata": {},
   "source": [
    "### String Operations"
   ]
  },
  {
   "cell_type": "code",
   "execution_count": 34,
   "id": "d2058367-2f74-46bc-8d45-b1a2c6c5f737",
   "metadata": {},
   "outputs": [
    {
     "data": {
      "text/plain": [
       "[1, 2, 4, 1, 2]"
      ]
     },
     "execution_count": 34,
     "metadata": {},
     "output_type": "execute_result"
    }
   ],
   "source": [
    "[1,2,4] + [1,2]"
   ]
  },
  {
   "cell_type": "code",
   "execution_count": 35,
   "id": "df81994c-e55a-4cf7-ba9a-502e7aa6be2f",
   "metadata": {},
   "outputs": [
    {
     "data": {
      "text/plain": [
       "'Hello World'"
      ]
     },
     "execution_count": 35,
     "metadata": {},
     "output_type": "execute_result"
    }
   ],
   "source": [
    "\"Hello \" + 'World'"
   ]
  },
  {
   "cell_type": "code",
   "execution_count": 36,
   "id": "02e3417e-9d89-4d49-adcf-3cd4ecf9cea1",
   "metadata": {},
   "outputs": [
    {
     "data": {
      "text/plain": [
       "[1, 2, 4, 1, 2, 4, 1, 2, 4]"
      ]
     },
     "execution_count": 36,
     "metadata": {},
     "output_type": "execute_result"
    }
   ],
   "source": [
    "[1,2,4]*3"
   ]
  },
  {
   "cell_type": "code",
   "execution_count": 37,
   "id": "e6cb0289-dec0-4830-bce6-b85c696c2598",
   "metadata": {},
   "outputs": [
    {
     "data": {
      "text/plain": [
       "'boy boy boy boy boy '"
      ]
     },
     "execution_count": 37,
     "metadata": {},
     "output_type": "execute_result"
    }
   ],
   "source": [
    "'boy '*5"
   ]
  },
  {
   "cell_type": "markdown",
   "id": "4b81de34-bc4e-4347-ab8d-ae62c2d53c91",
   "metadata": {},
   "source": [
    "### Escape Sequence\n",
    "\n",
    "Sequences of characters that start with a backslash and that are used to represent other characters are called **escape sequence**."
   ]
  },
  {
   "cell_type": "code",
   "execution_count": 38,
   "id": "26f3cf1b-f124-4529-9793-8b8b8145879c",
   "metadata": {},
   "outputs": [
    {
     "name": "stdout",
     "output_type": "stream",
     "text": [
      "Hello\n",
      "\n",
      " World\n"
     ]
    }
   ],
   "source": [
    "print('Hello\\n\\n World') ## \\n is for new line"
   ]
  },
  {
   "cell_type": "code",
   "execution_count": 39,
   "id": "76df2162-0a0a-45df-bc32-6db9bf2e2b07",
   "metadata": {},
   "outputs": [
    {
     "name": "stdout",
     "output_type": "stream",
     "text": [
      "Hello \t World\n"
     ]
    }
   ],
   "source": [
    "print('Hello \\t World')"
   ]
  },
  {
   "cell_type": "markdown",
   "id": "8a9da107-0b91-49f5-84d0-eb65803edc52",
   "metadata": {},
   "source": [
    "### String Methods"
   ]
  },
  {
   "cell_type": "code",
   "execution_count": 41,
   "id": "8fb3c706-b06d-480c-a903-514fe1513614",
   "metadata": {},
   "outputs": [
    {
     "data": {
      "text/plain": [
       "['I', 'love', 'cheese', 'burger']"
      ]
     },
     "execution_count": 41,
     "metadata": {},
     "output_type": "execute_result"
    }
   ],
   "source": [
    "x='I love cheese burger'\n",
    "y=x.split()\n",
    "y"
   ]
  },
  {
   "cell_type": "code",
   "execution_count": 45,
   "id": "816c8ed1-c0ec-41a3-81b2-3980c235212a",
   "metadata": {},
   "outputs": [
    {
     "data": {
      "text/plain": [
       "'I love cheese burger'"
      ]
     },
     "execution_count": 45,
     "metadata": {},
     "output_type": "execute_result"
    }
   ],
   "source": [
    "' '.join(y)"
   ]
  },
  {
   "cell_type": "code",
   "execution_count": 43,
   "id": "25a7fb60-c9b6-4643-bfdf-e54783d49c38",
   "metadata": {},
   "outputs": [
    {
     "data": {
      "text/plain": [
       "'I+love+cheese+burger'"
      ]
     },
     "execution_count": 43,
     "metadata": {},
     "output_type": "execute_result"
    }
   ],
   "source": [
    "'+'.join(y)"
   ]
  },
  {
   "cell_type": "code",
   "execution_count": 47,
   "id": "e0d4dbd2-2d3b-470b-88f6-1ee065e7bace",
   "metadata": {},
   "outputs": [
    {
     "data": {
      "text/plain": [
       "['Mississi', 'i']"
      ]
     },
     "execution_count": 47,
     "metadata": {},
     "output_type": "execute_result"
    }
   ],
   "source": [
    "x='Mississippi'\n",
    "x.split('pp')"
   ]
  },
  {
   "cell_type": "code",
   "execution_count": 48,
   "id": "564d96aa-91c7-468a-ac00-5380eb231dab",
   "metadata": {},
   "outputs": [
    {
     "data": {
      "text/plain": [
       "['a', 'b c d']"
      ]
     },
     "execution_count": 48,
     "metadata": {},
     "output_type": "execute_result"
    }
   ],
   "source": [
    "x= 'a b c d'\n",
    "x.split(' ', 1)"
   ]
  },
  {
   "cell_type": "code",
   "execution_count": 49,
   "id": "9183a313-1367-4b0c-87f2-5d54f51b0830",
   "metadata": {},
   "outputs": [
    {
     "data": {
      "text/plain": [
       "['a', 'b', 'c d']"
      ]
     },
     "execution_count": 49,
     "metadata": {},
     "output_type": "execute_result"
    }
   ],
   "source": [
    "x.split(' ', 2)"
   ]
  },
  {
   "cell_type": "code",
   "execution_count": 50,
   "id": "955092cb-552a-4317-8482-20aa3b828928",
   "metadata": {},
   "outputs": [
    {
     "data": {
      "text/plain": [
       "['a', 'b', 'c', 'd']"
      ]
     },
     "execution_count": 50,
     "metadata": {},
     "output_type": "execute_result"
    }
   ],
   "source": [
    "x.split()"
   ]
  },
  {
   "cell_type": "markdown",
   "id": "788dbf00-1d3a-4f6f-8ebf-faa998ff1451",
   "metadata": {},
   "source": [
    "### Converting Strings to Numbers"
   ]
  },
  {
   "cell_type": "code",
   "execution_count": 51,
   "id": "170d42c1-68b8-4ae3-8cc0-dd44962737e5",
   "metadata": {},
   "outputs": [
    {
     "data": {
      "text/plain": [
       "str"
      ]
     },
     "execution_count": 51,
     "metadata": {},
     "output_type": "execute_result"
    }
   ],
   "source": [
    "score='88.76'\n",
    "type(score)"
   ]
  },
  {
   "cell_type": "code",
   "execution_count": 53,
   "id": "f832f0ca-3e54-42d5-9042-b9af37a24887",
   "metadata": {},
   "outputs": [
    {
     "data": {
      "text/plain": [
       "float"
      ]
     },
     "execution_count": 53,
     "metadata": {},
     "output_type": "execute_result"
    }
   ],
   "source": [
    "new=float(score)\n",
    "type(new)"
   ]
  },
  {
   "cell_type": "code",
   "execution_count": 56,
   "id": "760c0e05-5ba8-4316-9c00-59a2588436c0",
   "metadata": {},
   "outputs": [
    {
     "data": {
      "text/plain": [
       "str"
      ]
     },
     "execution_count": 56,
     "metadata": {},
     "output_type": "execute_result"
    }
   ],
   "source": [
    "score2='60'\n",
    "type(score2)"
   ]
  },
  {
   "cell_type": "code",
   "execution_count": 57,
   "id": "784987ab-d52d-49eb-94ae-0f0c80fae401",
   "metadata": {},
   "outputs": [
    {
     "data": {
      "text/plain": [
       "60"
      ]
     },
     "execution_count": 57,
     "metadata": {},
     "output_type": "execute_result"
    }
   ],
   "source": [
    "int(score2)"
   ]
  },
  {
   "cell_type": "code",
   "execution_count": 58,
   "id": "bc726654-c6a7-4127-8649-a82ca3fb44b4",
   "metadata": {},
   "outputs": [
    {
     "data": {
      "text/plain": [
       "60.0"
      ]
     },
     "execution_count": 58,
     "metadata": {},
     "output_type": "execute_result"
    }
   ],
   "source": [
    "float(score2)"
   ]
  },
  {
   "cell_type": "code",
   "execution_count": 54,
   "id": "73f27211-5903-458f-93df-5e2a8f90acdb",
   "metadata": {},
   "outputs": [
    {
     "ename": "ValueError",
     "evalue": "could not convert string to float: 'xyz'",
     "output_type": "error",
     "traceback": [
      "\u001b[0;31m---------------------------------------------------------------------------\u001b[0m",
      "\u001b[0;31mValueError\u001b[0m                                Traceback (most recent call last)",
      "\u001b[0;32m/tmp/ipykernel_13375/331605331.py\u001b[0m in \u001b[0;36m<module>\u001b[0;34m\u001b[0m\n\u001b[0;32m----> 1\u001b[0;31m \u001b[0mfloat\u001b[0m\u001b[0;34m(\u001b[0m\u001b[0;34m'xyz'\u001b[0m\u001b[0;34m)\u001b[0m\u001b[0;34m\u001b[0m\u001b[0;34m\u001b[0m\u001b[0m\n\u001b[0m",
      "\u001b[0;31mValueError\u001b[0m: could not convert string to float: 'xyz'"
     ]
    }
   ],
   "source": [
    "float('xyz')"
   ]
  },
  {
   "cell_type": "code",
   "execution_count": 55,
   "id": "54b8ec82-f8b4-44bb-b328-a93b5dd1e5ab",
   "metadata": {},
   "outputs": [
    {
     "ename": "ValueError",
     "evalue": "invalid literal for int() with base 10: '88.76'",
     "output_type": "error",
     "traceback": [
      "\u001b[0;31m---------------------------------------------------------------------------\u001b[0m",
      "\u001b[0;31mValueError\u001b[0m                                Traceback (most recent call last)",
      "\u001b[0;32m/tmp/ipykernel_13375/3575071452.py\u001b[0m in \u001b[0;36m<module>\u001b[0;34m\u001b[0m\n\u001b[0;32m----> 1\u001b[0;31m \u001b[0mint\u001b[0m\u001b[0;34m(\u001b[0m\u001b[0;34m'88.76'\u001b[0m\u001b[0;34m)\u001b[0m\u001b[0;34m\u001b[0m\u001b[0;34m\u001b[0m\u001b[0m\n\u001b[0m",
      "\u001b[0;31mValueError\u001b[0m: invalid literal for int() with base 10: '88.76'"
     ]
    }
   ],
   "source": [
    "int('88.76')"
   ]
  },
  {
   "cell_type": "markdown",
   "id": "2ef09649-651f-400b-b27b-a0e99197c8e6",
   "metadata": {},
   "source": [
    "### Getting rid of white spaces\n",
    "\n",
    "1. strip: removes the white spaces at the beginning or end of a string\n",
    "2. lstrip: removes the white spaces at the left end of the string\n",
    "3. rstrip: removes the white spaces at the right end of the string"
   ]
  },
  {
   "cell_type": "code",
   "execution_count": 68,
   "id": "3a49abb6-0e1c-484e-b865-a1f393afc49e",
   "metadata": {},
   "outputs": [],
   "source": [
    "x='            Hello          World                               '"
   ]
  },
  {
   "cell_type": "code",
   "execution_count": 62,
   "id": "e7be34b7-ba05-4b8d-80fe-8d936fb5e36d",
   "metadata": {},
   "outputs": [
    {
     "data": {
      "text/plain": [
       "'Hello          World'"
      ]
     },
     "execution_count": 62,
     "metadata": {},
     "output_type": "execute_result"
    }
   ],
   "source": [
    "x.strip()"
   ]
  },
  {
   "cell_type": "code",
   "execution_count": 64,
   "id": "aff82154-e1db-4b74-9b7a-a88c664ad047",
   "metadata": {},
   "outputs": [
    {
     "data": {
      "text/plain": [
       "'Hello World \\t\\t'"
      ]
     },
     "execution_count": 64,
     "metadata": {},
     "output_type": "execute_result"
    }
   ],
   "source": [
    "y='Hello World \\t\\t'\n",
    "y"
   ]
  },
  {
   "cell_type": "code",
   "execution_count": 65,
   "id": "2ed6fe04-09e3-4644-9ba1-91e36f8f5002",
   "metadata": {},
   "outputs": [
    {
     "data": {
      "text/plain": [
       "'Hello World'"
      ]
     },
     "execution_count": 65,
     "metadata": {},
     "output_type": "execute_result"
    }
   ],
   "source": [
    "y.strip()"
   ]
  },
  {
   "cell_type": "code",
   "execution_count": 70,
   "id": "82e547c5-0010-4500-b923-1b87cb6963b2",
   "metadata": {},
   "outputs": [],
   "source": [
    "x='            Hello          World                               '"
   ]
  },
  {
   "cell_type": "code",
   "execution_count": 71,
   "id": "3514f7cc-6acf-4a8e-bcff-4fdd890ae653",
   "metadata": {},
   "outputs": [
    {
     "data": {
      "text/plain": [
       "'Hello          World                               '"
      ]
     },
     "execution_count": 71,
     "metadata": {},
     "output_type": "execute_result"
    }
   ],
   "source": [
    "x.lstrip()"
   ]
  },
  {
   "cell_type": "code",
   "execution_count": 72,
   "id": "d60139fd-876a-48f2-84b4-485c43321f83",
   "metadata": {},
   "outputs": [
    {
     "data": {
      "text/plain": [
       "'            Hello          World'"
      ]
     },
     "execution_count": 72,
     "metadata": {},
     "output_type": "execute_result"
    }
   ],
   "source": [
    "x.rstrip()"
   ]
  },
  {
   "cell_type": "code",
   "execution_count": 73,
   "id": "089958a5-81e5-44d5-82e9-550719e94c22",
   "metadata": {},
   "outputs": [
    {
     "data": {
      "text/plain": [
       "'.python.com'"
      ]
     },
     "execution_count": 73,
     "metadata": {},
     "output_type": "execute_result"
    }
   ],
   "source": [
    "x='www.python.com'\n",
    "x.strip('w')"
   ]
  },
  {
   "cell_type": "code",
   "execution_count": 75,
   "id": "9fb0d69a-f1ad-430b-b8fc-4205fcf97232",
   "metadata": {},
   "outputs": [
    {
     "data": {
      "text/plain": [
       "'.python.'"
      ]
     },
     "execution_count": 75,
     "metadata": {},
     "output_type": "execute_result"
    }
   ],
   "source": [
    "x.strip('womc')"
   ]
  },
  {
   "cell_type": "markdown",
   "id": "46ab7a0c-1852-42be-a42f-a96ac383349c",
   "metadata": {},
   "source": [
    "## Do it yourself\n",
    "\n",
    "1. Which of the following will not convert to numbers and why?\n",
    "\n",
    "```python\n",
    "int('a1')\n",
    "int('12*2')\n",
    "float('12345678901234567890')\n",
    "```\n",
    "\n",
    "2. How could use **split** and **join** function to change all the white spaces in string *x* to dashes, such as changing \n",
    "\n",
    "```python\n",
    "x = 'this is a test'\n",
    "```\n",
    "\n",
    "to \n",
    "\n",
    "```python\n",
    "ans = 'this-is-a-test'\n",
    "```"
   ]
  },
  {
   "cell_type": "code",
   "execution_count": 76,
   "id": "f60537be-6cff-4de2-adfb-d52a2ca77899",
   "metadata": {},
   "outputs": [
    {
     "ename": "ValueError",
     "evalue": "invalid literal for int() with base 10: 'a1'",
     "output_type": "error",
     "traceback": [
      "\u001b[0;31m---------------------------------------------------------------------------\u001b[0m",
      "\u001b[0;31mValueError\u001b[0m                                Traceback (most recent call last)",
      "\u001b[0;32m/tmp/ipykernel_13375/3534666676.py\u001b[0m in \u001b[0;36m<module>\u001b[0;34m\u001b[0m\n\u001b[0;32m----> 1\u001b[0;31m \u001b[0mint\u001b[0m\u001b[0;34m(\u001b[0m\u001b[0;34m'a1'\u001b[0m\u001b[0;34m)\u001b[0m\u001b[0;34m\u001b[0m\u001b[0;34m\u001b[0m\u001b[0m\n\u001b[0m",
      "\u001b[0;31mValueError\u001b[0m: invalid literal for int() with base 10: 'a1'"
     ]
    }
   ],
   "source": [
    "int('a1')"
   ]
  },
  {
   "cell_type": "code",
   "execution_count": 85,
   "id": "c4741928-7e59-4450-8730-2dbddd1f339b",
   "metadata": {},
   "outputs": [
    {
     "ename": "ValueError",
     "evalue": "invalid literal for int() with base 10: '12*2'",
     "output_type": "error",
     "traceback": [
      "\u001b[0;31m---------------------------------------------------------------------------\u001b[0m",
      "\u001b[0;31mValueError\u001b[0m                                Traceback (most recent call last)",
      "\u001b[0;32m/tmp/ipykernel_13375/3355870127.py\u001b[0m in \u001b[0;36m<module>\u001b[0;34m\u001b[0m\n\u001b[0;32m----> 1\u001b[0;31m \u001b[0mint\u001b[0m\u001b[0;34m(\u001b[0m\u001b[0;34m'12*2'\u001b[0m\u001b[0;34m)\u001b[0m\u001b[0;34m\u001b[0m\u001b[0;34m\u001b[0m\u001b[0m\n\u001b[0m",
      "\u001b[0;31mValueError\u001b[0m: invalid literal for int() with base 10: '12*2'"
     ]
    }
   ],
   "source": [
    "int('12*2')"
   ]
  },
  {
   "cell_type": "code",
   "execution_count": 78,
   "id": "dfe81a0c-0d20-47eb-912a-9009a662e16e",
   "metadata": {},
   "outputs": [
    {
     "data": {
      "text/plain": [
       "1.2345678901234567e+19"
      ]
     },
     "execution_count": 78,
     "metadata": {},
     "output_type": "execute_result"
    }
   ],
   "source": [
    "float('12345678901234567890')"
   ]
  },
  {
   "cell_type": "code",
   "execution_count": 79,
   "id": "10f2bf28-9a65-4b66-bf95-e8d4a112ab02",
   "metadata": {},
   "outputs": [
    {
     "data": {
      "text/plain": [
       "'this is a test'"
      ]
     },
     "execution_count": 79,
     "metadata": {},
     "output_type": "execute_result"
    }
   ],
   "source": [
    "x = 'this is a test'\n",
    "x"
   ]
  },
  {
   "cell_type": "code",
   "execution_count": 81,
   "id": "71da967c-fef4-4e19-a9a5-f1fd110af211",
   "metadata": {},
   "outputs": [
    {
     "data": {
      "text/plain": [
       "['this', 'is', 'a', 'test']"
      ]
     },
     "execution_count": 81,
     "metadata": {},
     "output_type": "execute_result"
    }
   ],
   "source": [
    "splitted=x.split()\n",
    "splitted"
   ]
  },
  {
   "cell_type": "code",
   "execution_count": 82,
   "id": "b60c01a9-d0e1-41bd-afc3-caf3c2baa25d",
   "metadata": {},
   "outputs": [
    {
     "data": {
      "text/plain": [
       "'this-is-a-test'"
      ]
     },
     "execution_count": 82,
     "metadata": {},
     "output_type": "execute_result"
    }
   ],
   "source": [
    "'-'.join(splitted)"
   ]
  },
  {
   "cell_type": "code",
   "execution_count": 80,
   "id": "877dbddb-bc65-40dc-ba54-e27d41ac8783",
   "metadata": {},
   "outputs": [
    {
     "data": {
      "text/plain": [
       "'this-is-a-test'"
      ]
     },
     "execution_count": 80,
     "metadata": {},
     "output_type": "execute_result"
    }
   ],
   "source": [
    "'-'.join(x.split())"
   ]
  },
  {
   "cell_type": "markdown",
   "id": "bb7ba8e7-4580-47bc-86e6-244d9ad40209",
   "metadata": {},
   "source": [
    "# June 12"
   ]
  },
  {
   "cell_type": "markdown",
   "id": "fb3b5131-fb89-4e96-aa70-01d00786cd8d",
   "metadata": {
    "tags": []
   },
   "source": [
    "## String Searching\n",
    "\n",
    "Basic string-searching methods:\n",
    "\n",
    "1. find\n",
    "2. rfind\n",
    "3. index\n",
    "4. rindex"
   ]
  },
  {
   "cell_type": "code",
   "execution_count": 4,
   "id": "07bc813d-6a48-47b2-bcdd-b0d6f9973b36",
   "metadata": {},
   "outputs": [
    {
     "data": {
      "text/plain": [
       "2"
      ]
     },
     "execution_count": 4,
     "metadata": {},
     "output_type": "execute_result"
    }
   ],
   "source": [
    "x='Mississippi'\n",
    "x.find('ss')"
   ]
  },
  {
   "cell_type": "code",
   "execution_count": 5,
   "id": "1c7e838e-9e3c-4a22-bbe4-251ab78cfd8c",
   "metadata": {},
   "outputs": [
    {
     "data": {
      "text/plain": [
       "-1"
      ]
     },
     "execution_count": 5,
     "metadata": {},
     "output_type": "execute_result"
    }
   ],
   "source": [
    "x.find('q')"
   ]
  },
  {
   "cell_type": "code",
   "execution_count": 6,
   "id": "2e80db53-a92f-4607-971f-471749cd545a",
   "metadata": {},
   "outputs": [
    {
     "data": {
      "text/plain": [
       "5"
      ]
     },
     "execution_count": 6,
     "metadata": {},
     "output_type": "execute_result"
    }
   ],
   "source": [
    "x.find('ss', 3)"
   ]
  },
  {
   "cell_type": "code",
   "execution_count": 7,
   "id": "22723235-bd62-4733-bbe7-cd075c858400",
   "metadata": {},
   "outputs": [
    {
     "data": {
      "text/plain": [
       "-1"
      ]
     },
     "execution_count": 7,
     "metadata": {},
     "output_type": "execute_result"
    }
   ],
   "source": [
    "x.find('ss', 0, 3)"
   ]
  },
  {
   "cell_type": "code",
   "execution_count": 8,
   "id": "285ba965-8ca3-445b-b6dd-fc31acf3d7b3",
   "metadata": {},
   "outputs": [
    {
     "data": {
      "text/plain": [
       "[1, 2, 3]"
      ]
     },
     "execution_count": 8,
     "metadata": {},
     "output_type": "execute_result"
    }
   ],
   "source": [
    "d=[1,2,3,4]\n",
    "d[:3]"
   ]
  },
  {
   "cell_type": "code",
   "execution_count": 22,
   "id": "2b6fe9e8-ed57-4478-999b-1064c69e2779",
   "metadata": {},
   "outputs": [
    {
     "data": {
      "text/plain": [
       "5"
      ]
     },
     "execution_count": 22,
     "metadata": {},
     "output_type": "execute_result"
    }
   ],
   "source": [
    "x='Mississippii'\n",
    "x.rfind('ss')"
   ]
  },
  {
   "cell_type": "code",
   "execution_count": 14,
   "id": "a928993c-a55f-4b9d-9061-386dda9ed900",
   "metadata": {},
   "outputs": [
    {
     "data": {
      "text/plain": [
       "1"
      ]
     },
     "execution_count": 14,
     "metadata": {},
     "output_type": "execute_result"
    }
   ],
   "source": [
    "x.find('i')"
   ]
  },
  {
   "cell_type": "code",
   "execution_count": 15,
   "id": "56f2dff2-8082-4b28-9b2c-713707ad6e8a",
   "metadata": {},
   "outputs": [
    {
     "data": {
      "text/plain": [
       "11"
      ]
     },
     "execution_count": 15,
     "metadata": {},
     "output_type": "execute_result"
    }
   ],
   "source": [
    "x.rfind('i')"
   ]
  },
  {
   "cell_type": "code",
   "execution_count": 19,
   "id": "fcae9a2c-779b-473e-955f-fa01b59a194b",
   "metadata": {},
   "outputs": [
    {
     "data": {
      "text/plain": [
       "2"
      ]
     },
     "execution_count": 19,
     "metadata": {},
     "output_type": "execute_result"
    }
   ],
   "source": [
    "x.index('ss')"
   ]
  },
  {
   "cell_type": "code",
   "execution_count": 20,
   "id": "14426569-7716-4f8a-b350-fc1889a10829",
   "metadata": {},
   "outputs": [
    {
     "ename": "ValueError",
     "evalue": "substring not found",
     "output_type": "error",
     "traceback": [
      "\u001b[0;31m---------------------------------------------------------------------------\u001b[0m",
      "\u001b[0;31mValueError\u001b[0m                                Traceback (most recent call last)",
      "\u001b[0;32m/tmp/ipykernel_29708/4172980945.py\u001b[0m in \u001b[0;36m<module>\u001b[0;34m\u001b[0m\n\u001b[0;32m----> 1\u001b[0;31m \u001b[0mx\u001b[0m\u001b[0;34m.\u001b[0m\u001b[0mindex\u001b[0m\u001b[0;34m(\u001b[0m\u001b[0;34m'z'\u001b[0m\u001b[0;34m)\u001b[0m\u001b[0;34m\u001b[0m\u001b[0;34m\u001b[0m\u001b[0m\n\u001b[0m",
      "\u001b[0;31mValueError\u001b[0m: substring not found"
     ]
    }
   ],
   "source": [
    "x.index('z')"
   ]
  },
  {
   "cell_type": "code",
   "execution_count": 23,
   "id": "062604fd-ad74-4f1b-97b2-c5daa6a095b6",
   "metadata": {},
   "outputs": [
    {
     "data": {
      "text/plain": [
       "2"
      ]
     },
     "execution_count": 23,
     "metadata": {},
     "output_type": "execute_result"
    }
   ],
   "source": [
    "x.count('ss')"
   ]
  },
  {
   "cell_type": "code",
   "execution_count": 24,
   "id": "9b186a55-9d26-4984-bff0-9a41b3e6b156",
   "metadata": {},
   "outputs": [
    {
     "data": {
      "text/plain": [
       "4"
      ]
     },
     "execution_count": 24,
     "metadata": {},
     "output_type": "execute_result"
    }
   ],
   "source": [
    "x.count('s')"
   ]
  },
  {
   "cell_type": "code",
   "execution_count": 25,
   "id": "9ad1fe86-41fd-479d-b6da-d45272669966",
   "metadata": {},
   "outputs": [
    {
     "data": {
      "text/plain": [
       "True"
      ]
     },
     "execution_count": 25,
     "metadata": {},
     "output_type": "execute_result"
    }
   ],
   "source": [
    "x.startswith('Mis')"
   ]
  },
  {
   "cell_type": "code",
   "execution_count": 26,
   "id": "8a3c17e1-7858-46d6-9b11-11c816e071d7",
   "metadata": {},
   "outputs": [
    {
     "data": {
      "text/plain": [
       "False"
      ]
     },
     "execution_count": 26,
     "metadata": {},
     "output_type": "execute_result"
    }
   ],
   "source": [
    "x.startswith('mis')"
   ]
  },
  {
   "cell_type": "code",
   "execution_count": 27,
   "id": "531e8268-324a-46e8-96ca-d7dcd0c40d50",
   "metadata": {},
   "outputs": [
    {
     "data": {
      "text/plain": [
       "False"
      ]
     },
     "execution_count": 27,
     "metadata": {},
     "output_type": "execute_result"
    }
   ],
   "source": [
    "x.endswith('mis')"
   ]
  },
  {
   "cell_type": "code",
   "execution_count": 28,
   "id": "748f7482-758a-4ffb-a304-2a4487dbdd30",
   "metadata": {},
   "outputs": [
    {
     "data": {
      "text/plain": [
       "True"
      ]
     },
     "execution_count": 28,
     "metadata": {},
     "output_type": "execute_result"
    }
   ],
   "source": [
    "x.endswith('i')"
   ]
  },
  {
   "cell_type": "markdown",
   "id": "4b15eb0f-2c1c-49bb-a643-db9d13ca928f",
   "metadata": {},
   "source": [
    "## Modifying Strings"
   ]
  },
  {
   "cell_type": "code",
   "execution_count": 29,
   "id": "6c7c6f60-c80b-4b58-b355-083cef3bbad1",
   "metadata": {},
   "outputs": [
    {
     "ename": "TypeError",
     "evalue": "'str' object does not support item assignment",
     "output_type": "error",
     "traceback": [
      "\u001b[0;31m---------------------------------------------------------------------------\u001b[0m",
      "\u001b[0;31mTypeError\u001b[0m                                 Traceback (most recent call last)",
      "\u001b[0;32m/tmp/ipykernel_29708/430078249.py\u001b[0m in \u001b[0;36m<module>\u001b[0;34m\u001b[0m\n\u001b[1;32m      1\u001b[0m \u001b[0mx\u001b[0m\u001b[0;34m=\u001b[0m\u001b[0;34m'Mississippi'\u001b[0m\u001b[0;34m\u001b[0m\u001b[0;34m\u001b[0m\u001b[0m\n\u001b[0;32m----> 2\u001b[0;31m \u001b[0mx\u001b[0m\u001b[0;34m[\u001b[0m\u001b[0;36m1\u001b[0m\u001b[0;34m]\u001b[0m \u001b[0;34m=\u001b[0m \u001b[0;34m'j'\u001b[0m\u001b[0;34m\u001b[0m\u001b[0;34m\u001b[0m\u001b[0m\n\u001b[0m",
      "\u001b[0;31mTypeError\u001b[0m: 'str' object does not support item assignment"
     ]
    }
   ],
   "source": [
    "x='Mississippi'\n",
    "x[1] = 'j'"
   ]
  },
  {
   "cell_type": "code",
   "execution_count": 30,
   "id": "98107e6f-1a39-4987-8d5a-6f447e3613d7",
   "metadata": {},
   "outputs": [
    {
     "data": {
      "text/plain": [
       "'Miqqiqqippi'"
      ]
     },
     "execution_count": 30,
     "metadata": {},
     "output_type": "execute_result"
    }
   ],
   "source": [
    "x.replace('ss', 'qq')"
   ]
  },
  {
   "cell_type": "code",
   "execution_count": 33,
   "id": "8f3d4628-371f-44ce-91e8-80a7366618ac",
   "metadata": {},
   "outputs": [
    {
     "data": {
      "text/plain": [
       "True"
      ]
     },
     "execution_count": 33,
     "metadata": {},
     "output_type": "execute_result"
    }
   ],
   "source": [
    "x='123'\n",
    "x.isdigit()"
   ]
  },
  {
   "cell_type": "code",
   "execution_count": 35,
   "id": "74515f93-a3ea-41e6-9fd2-f26dd560894d",
   "metadata": {},
   "outputs": [
    {
     "data": {
      "text/plain": [
       "True"
      ]
     },
     "execution_count": 35,
     "metadata": {},
     "output_type": "execute_result"
    }
   ],
   "source": [
    "x='Mississippi'\n",
    "x.isalpha()"
   ]
  },
  {
   "cell_type": "code",
   "execution_count": 37,
   "id": "6d5a3189-ec0a-4e32-a0bc-a98ee83071a7",
   "metadata": {},
   "outputs": [
    {
     "data": {
      "text/plain": [
       "\u001b[0;31mSignature:\u001b[0m \u001b[0mx\u001b[0m\u001b[0;34m.\u001b[0m\u001b[0misalnum\u001b[0m\u001b[0;34m(\u001b[0m\u001b[0;34m)\u001b[0m\u001b[0;34m\u001b[0m\u001b[0;34m\u001b[0m\u001b[0m\n",
       "\u001b[0;31mDocstring:\u001b[0m\n",
       "Return True if the string is an alpha-numeric string, False otherwise.\n",
       "\n",
       "A string is alpha-numeric if all characters in the string are alpha-numeric and\n",
       "there is at least one character in the string.\n",
       "\u001b[0;31mType:\u001b[0m      builtin_function_or_method\n"
      ]
     },
     "metadata": {},
     "output_type": "display_data"
    }
   ],
   "source": [
    "?x.isalnum"
   ]
  },
  {
   "cell_type": "code",
   "execution_count": 41,
   "id": "e51876ce-2299-418f-8071-2f2d4022f4fb",
   "metadata": {},
   "outputs": [
    {
     "data": {
      "text/plain": [
       "True"
      ]
     },
     "execution_count": 41,
     "metadata": {},
     "output_type": "execute_result"
    }
   ],
   "source": [
    "x='Mississippi123'\n",
    "x.isalnum()"
   ]
  },
  {
   "cell_type": "code",
   "execution_count": 42,
   "id": "02e73ffe-6e75-4e01-aa0d-cb66f9313048",
   "metadata": {},
   "outputs": [
    {
     "data": {
      "text/plain": [
       "False"
      ]
     },
     "execution_count": 42,
     "metadata": {},
     "output_type": "execute_result"
    }
   ],
   "source": [
    "x=\"M\"\n",
    "x.islower()"
   ]
  },
  {
   "cell_type": "code",
   "execution_count": 43,
   "id": "6f126d47-0ecb-4307-9cd2-9697b6db058c",
   "metadata": {},
   "outputs": [
    {
     "data": {
      "text/plain": [
       "True"
      ]
     },
     "execution_count": 43,
     "metadata": {},
     "output_type": "execute_result"
    }
   ],
   "source": [
    "x=\"m\"\n",
    "x.islower()"
   ]
  },
  {
   "cell_type": "code",
   "execution_count": 44,
   "id": "56a2d292-9c42-413a-ac08-72519fa22fb4",
   "metadata": {},
   "outputs": [
    {
     "data": {
      "text/plain": [
       "True"
      ]
     },
     "execution_count": 44,
     "metadata": {},
     "output_type": "execute_result"
    }
   ],
   "source": [
    "x=\"M\"\n",
    "x.isupper()"
   ]
  },
  {
   "cell_type": "markdown",
   "id": "4634f1f6-97e0-4c81-94ae-05c567a043ca",
   "metadata": {},
   "source": [
    "## Do it yourself\n",
    "\n",
    "Write a Python code that checks whether a string is a name.\n",
    "\n",
    "For now, we would a name as any string that starts with upper case.\n",
    "\n",
    "\"Male\" is a name while \"male\" is not a name."
   ]
  },
  {
   "cell_type": "code",
   "execution_count": 52,
   "id": "b6069935-804e-4ca0-afb7-7409c551b61e",
   "metadata": {},
   "outputs": [
    {
     "data": {
      "text/plain": [
       "True"
      ]
     },
     "execution_count": 52,
     "metadata": {},
     "output_type": "execute_result"
    }
   ],
   "source": [
    "x='Male'\n",
    "x[0].isupper()"
   ]
  },
  {
   "cell_type": "markdown",
   "id": "33d7ec80-bc63-4f61-87b2-5ec668a9f233",
   "metadata": {},
   "source": [
    "### String Formatting"
   ]
  },
  {
   "cell_type": "markdown",
   "id": "a333696c-8697-469b-9b3b-21b3f504a973",
   "metadata": {},
   "source": [
    "Rice is the food of Nigerians"
   ]
  },
  {
   "cell_type": "code",
   "execution_count": 54,
   "id": "022c4136-cdf4-4813-a84c-8666ce621370",
   "metadata": {},
   "outputs": [
    {
     "data": {
      "text/plain": [
       "'Rice is the food of Nigerians, Rice the food for others'"
      ]
     },
     "execution_count": 54,
     "metadata": {},
     "output_type": "execute_result"
    }
   ],
   "source": [
    "\"{0} is the {1} of {2}, {0} the {1} for others\".format(\"Rice\", 'food', 'Nigerians')"
   ]
  },
  {
   "cell_type": "code",
   "execution_count": 55,
   "id": "cc8286a1-3751-40b3-bc87-ef1c9c7e734f",
   "metadata": {},
   "outputs": [
    {
     "data": {
      "text/plain": [
       "'Rice is the food of Nigerians'"
      ]
     },
     "execution_count": 55,
     "metadata": {},
     "output_type": "execute_result"
    }
   ],
   "source": [
    "\"%s is the %s of %s\"%(\"Rice\", 'food', 'Nigerians')"
   ]
  },
  {
   "cell_type": "markdown",
   "id": "e8c1e9b7-6934-413b-8f98-64e7e32ae500",
   "metadata": {},
   "source": [
    "## Dictionaries"
   ]
  },
  {
   "cell_type": "code",
   "execution_count": 56,
   "id": "9c8231be-69b8-4932-8b9f-f783edbaf812",
   "metadata": {},
   "outputs": [
    {
     "data": {
      "text/plain": [
       "3"
      ]
     },
     "execution_count": 56,
     "metadata": {},
     "output_type": "execute_result"
    }
   ],
   "source": [
    "x=[1,2,3]\n",
    "x[2]"
   ]
  },
  {
   "cell_type": "code",
   "execution_count": 59,
   "id": "5a878a5d-4e3a-45e0-87b6-6ef64c49f139",
   "metadata": {},
   "outputs": [
    {
     "data": {
      "text/plain": [
       "'Jesicca'"
      ]
     },
     "execution_count": 59,
     "metadata": {},
     "output_type": "execute_result"
    }
   ],
   "source": [
    "character_list=['Jesicca', '27', 'Ireland', 'Blonde']\n",
    "character_list[0]"
   ]
  },
  {
   "cell_type": "code",
   "execution_count": 60,
   "id": "682d2637-88e9-44dd-a0f3-98e49489cf91",
   "metadata": {},
   "outputs": [],
   "source": [
    "character_dict={'Name': 'Jesicca', 'Age': 27, 'Country': 'Ireland', 'Hair color': 'Blonde'}"
   ]
  },
  {
   "cell_type": "code",
   "execution_count": 62,
   "id": "3ccd8908-2316-40a0-9839-b9c6f2ceaf5a",
   "metadata": {},
   "outputs": [
    {
     "data": {
      "text/plain": [
       "27"
      ]
     },
     "execution_count": 62,
     "metadata": {},
     "output_type": "execute_result"
    }
   ],
   "source": [
    "character_dict['Age']"
   ]
  },
  {
   "cell_type": "code",
   "execution_count": 63,
   "id": "d0680fea-e823-4a60-9117-e61d68987f5d",
   "metadata": {},
   "outputs": [
    {
     "data": {
      "text/plain": [
       "4"
      ]
     },
     "execution_count": 63,
     "metadata": {},
     "output_type": "execute_result"
    }
   ],
   "source": [
    "len(character_dict)"
   ]
  },
  {
   "cell_type": "code",
   "execution_count": 64,
   "id": "3324b801-d14a-4dc9-9d28-3c97cace340e",
   "metadata": {},
   "outputs": [
    {
     "data": {
      "text/plain": [
       "dict_keys(['Name', 'Age', 'Country', 'Hair color'])"
      ]
     },
     "execution_count": 64,
     "metadata": {},
     "output_type": "execute_result"
    }
   ],
   "source": [
    "character_dict.keys()"
   ]
  },
  {
   "cell_type": "code",
   "execution_count": 65,
   "id": "b7c0b575-03d7-4d29-9fb0-e899df7e33d4",
   "metadata": {},
   "outputs": [
    {
     "data": {
      "text/plain": [
       "dict_values(['Jesicca', 27, 'Ireland', 'Blonde'])"
      ]
     },
     "execution_count": 65,
     "metadata": {},
     "output_type": "execute_result"
    }
   ],
   "source": [
    "character_dict.values()"
   ]
  },
  {
   "cell_type": "code",
   "execution_count": 66,
   "id": "30e453d3-fda7-4602-bc07-dfb949a153e9",
   "metadata": {},
   "outputs": [
    {
     "data": {
      "text/plain": [
       "dict_items([('Name', 'Jesicca'), ('Age', 27), ('Country', 'Ireland'), ('Hair color', 'Blonde')])"
      ]
     },
     "execution_count": 66,
     "metadata": {},
     "output_type": "execute_result"
    }
   ],
   "source": [
    "character_dict.items()"
   ]
  },
  {
   "cell_type": "code",
   "execution_count": 67,
   "id": "350e0e85-31d8-425e-bea7-8b013d3b344c",
   "metadata": {},
   "outputs": [],
   "source": [
    "del(character_dict['Hair color'])"
   ]
  },
  {
   "cell_type": "code",
   "execution_count": 68,
   "id": "537e3c96-cb82-4708-9e82-d3184ae35399",
   "metadata": {},
   "outputs": [
    {
     "data": {
      "text/plain": [
       "{'Name': 'Jesicca', 'Age': 27, 'Country': 'Ireland'}"
      ]
     },
     "execution_count": 68,
     "metadata": {},
     "output_type": "execute_result"
    }
   ],
   "source": [
    "character_dict"
   ]
  },
  {
   "cell_type": "code",
   "execution_count": 69,
   "id": "0370eabd-bc0a-4408-b50f-3c635458f228",
   "metadata": {},
   "outputs": [
    {
     "data": {
      "text/plain": [
       "False"
      ]
     },
     "execution_count": 69,
     "metadata": {},
     "output_type": "execute_result"
    }
   ],
   "source": [
    "'skin color' in character_dict"
   ]
  },
  {
   "cell_type": "code",
   "execution_count": 70,
   "id": "cfb57d4b-405c-466e-89ce-62ad98d4f9ef",
   "metadata": {},
   "outputs": [
    {
     "data": {
      "text/plain": [
       "'Jesicca'"
      ]
     },
     "execution_count": 70,
     "metadata": {},
     "output_type": "execute_result"
    }
   ],
   "source": [
    "character_dict.get('Name')"
   ]
  },
  {
   "cell_type": "code",
   "execution_count": 71,
   "id": "40930c4e-e324-481e-a43a-ebf893695043",
   "metadata": {},
   "outputs": [
    {
     "data": {
      "text/plain": [
       "'White'"
      ]
     },
     "execution_count": 71,
     "metadata": {},
     "output_type": "execute_result"
    }
   ],
   "source": [
    "character_dict.setdefault('skin color', 'White')"
   ]
  },
  {
   "cell_type": "code",
   "execution_count": 72,
   "id": "9eb4e70b-917b-4e13-8919-56570a9395de",
   "metadata": {},
   "outputs": [
    {
     "data": {
      "text/plain": [
       "{'Name': 'Jesicca', 'Age': 27, 'Country': 'Ireland', 'skin color': 'White'}"
      ]
     },
     "execution_count": 72,
     "metadata": {},
     "output_type": "execute_result"
    }
   ],
   "source": [
    "character_dict"
   ]
  },
  {
   "cell_type": "code",
   "execution_count": null,
   "id": "2a039015-b587-42d8-963e-4b8d1f4f18b6",
   "metadata": {},
   "outputs": [],
   "source": [
    "character_dict.copy()"
   ]
  },
  {
   "cell_type": "code",
   "execution_count": 73,
   "id": "6e209b81-3ee5-4fe0-8d7c-f7eb61eb289f",
   "metadata": {},
   "outputs": [],
   "source": [
    "dict2={\"dept\": 'computer science', 'school': 'AIMS'}"
   ]
  },
  {
   "cell_type": "code",
   "execution_count": 74,
   "id": "24c95af6-b61a-4b46-ac06-70803f6d6e4a",
   "metadata": {},
   "outputs": [],
   "source": [
    "character_dict.update(dict2)"
   ]
  },
  {
   "cell_type": "code",
   "execution_count": 75,
   "id": "e445f025-2b92-4d1e-ad53-cb3ee93fc17b",
   "metadata": {},
   "outputs": [
    {
     "data": {
      "text/plain": [
       "{'Name': 'Jesicca',\n",
       " 'Age': 27,\n",
       " 'Country': 'Ireland',\n",
       " 'skin color': 'White',\n",
       " 'dept': 'computer science',\n",
       " 'school': 'AIMS'}"
      ]
     },
     "execution_count": 75,
     "metadata": {},
     "output_type": "execute_result"
    }
   ],
   "source": [
    "character_dict"
   ]
  },
  {
   "cell_type": "code",
   "execution_count": 76,
   "id": "925d1113-6025-456c-9074-4b32f476ec26",
   "metadata": {},
   "outputs": [],
   "source": [
    "character_dict['Name'] = 'John'"
   ]
  },
  {
   "cell_type": "code",
   "execution_count": 77,
   "id": "071ad66d-81de-4d0b-8b2d-dda99870c778",
   "metadata": {},
   "outputs": [
    {
     "data": {
      "text/plain": [
       "{'Name': 'John',\n",
       " 'Age': 27,\n",
       " 'Country': 'Ireland',\n",
       " 'skin color': 'White',\n",
       " 'dept': 'computer science',\n",
       " 'school': 'AIMS'}"
      ]
     },
     "execution_count": 77,
     "metadata": {},
     "output_type": "execute_result"
    }
   ],
   "source": [
    "character_dict"
   ]
  },
  {
   "cell_type": "code",
   "execution_count": 78,
   "id": "4bdc3397-ddf5-4116-9d41-f33813eb375a",
   "metadata": {},
   "outputs": [],
   "source": [
    "character_dict['Age'] = 55"
   ]
  },
  {
   "cell_type": "code",
   "execution_count": 79,
   "id": "afc1e216-d0bc-4a4c-b285-4ddcd66b33ed",
   "metadata": {},
   "outputs": [
    {
     "data": {
      "text/plain": [
       "{'Name': 'John',\n",
       " 'Age': 55,\n",
       " 'Country': 'Ireland',\n",
       " 'skin color': 'White',\n",
       " 'dept': 'computer science',\n",
       " 'school': 'AIMS'}"
      ]
     },
     "execution_count": 79,
     "metadata": {},
     "output_type": "execute_result"
    }
   ],
   "source": [
    "character_dict"
   ]
  },
  {
   "cell_type": "markdown",
   "id": "4edc7a01-1afa-418f-bc4b-5c87ab850b67",
   "metadata": {},
   "source": [
    "## Do it yourself 2\n",
    "\n",
    "```python\n",
    "x = {'a': 1, 'b': 2, 'c': 3, 'd': 4}\n",
    "y = {'a':6, 'e':5, 'f':6}\n",
    "```\n",
    "\n",
    "What would be the content of **x** after the following operations:\n",
    "\n",
    "```python\n",
    "del x['d']\n",
    "z = x.setdefault('g', 7)\n",
    "x.update(y)\n",
    "```"
   ]
  },
  {
   "cell_type": "code",
   "execution_count": 80,
   "id": "d2a9e9f0-58d2-4afb-aa96-a2f77abf6d1c",
   "metadata": {},
   "outputs": [],
   "source": [
    "x = {'a': 1, 'b': 2, 'c': 3, 'd': 4}\n",
    "y = {'a':6, 'e':5, 'f':6}"
   ]
  },
  {
   "cell_type": "code",
   "execution_count": 81,
   "id": "045669e8-5f19-4e0d-9655-c31b72eb8cfe",
   "metadata": {},
   "outputs": [],
   "source": [
    "del x['d']"
   ]
  },
  {
   "cell_type": "code",
   "execution_count": 82,
   "id": "bd503eff-f379-4582-a845-0bf684e13b41",
   "metadata": {},
   "outputs": [
    {
     "data": {
      "text/plain": [
       "{'a': 1, 'b': 2, 'c': 3}"
      ]
     },
     "execution_count": 82,
     "metadata": {},
     "output_type": "execute_result"
    }
   ],
   "source": [
    "x"
   ]
  },
  {
   "cell_type": "code",
   "execution_count": 83,
   "id": "54fb04c7-d1b0-43f7-b108-a424f84edf9b",
   "metadata": {},
   "outputs": [],
   "source": [
    "z = x.setdefault('g', 7)"
   ]
  },
  {
   "cell_type": "code",
   "execution_count": 84,
   "id": "ad378f5b-55fc-423c-9705-93f2fb773191",
   "metadata": {},
   "outputs": [
    {
     "data": {
      "text/plain": [
       "7"
      ]
     },
     "execution_count": 84,
     "metadata": {},
     "output_type": "execute_result"
    }
   ],
   "source": [
    "z"
   ]
  },
  {
   "cell_type": "code",
   "execution_count": 86,
   "id": "e67b601c-5f50-4f53-a854-d8d56ddb10f4",
   "metadata": {},
   "outputs": [],
   "source": [
    "x.update(y)"
   ]
  },
  {
   "cell_type": "code",
   "execution_count": 87,
   "id": "43f8e5cf-0025-44c1-b35d-abfd81df241d",
   "metadata": {},
   "outputs": [
    {
     "data": {
      "text/plain": [
       "{'a': 6, 'b': 2, 'c': 3, 'g': 7, 'e': 5, 'f': 6}"
      ]
     },
     "execution_count": 87,
     "metadata": {},
     "output_type": "execute_result"
    }
   ],
   "source": [
    "x"
   ]
  },
  {
   "cell_type": "markdown",
   "id": "6358f9a6-ccff-4f6a-b830-bf9a45dd48b8",
   "metadata": {},
   "source": [
    "## Control Flow"
   ]
  },
  {
   "cell_type": "code",
   "execution_count": 88,
   "id": "242f1372-d816-4b14-b6aa-b40dc9ab415c",
   "metadata": {},
   "outputs": [
    {
     "name": "stdout",
     "output_type": "stream",
     "text": [
      "0\n",
      "1\n",
      "2\n",
      "3\n"
     ]
    }
   ],
   "source": [
    "print(0)\n",
    "print(1)\n",
    "print(2)\n",
    "print(3)"
   ]
  },
  {
   "cell_type": "markdown",
   "id": "0544baac-9ce9-4759-be98-edfe0a4019c0",
   "metadata": {},
   "source": [
    "### while loop\n",
    "\n",
    "```python\n",
    "while condition:\n",
    "    body\n",
    "else:\n",
    "    post-code\n",
    "```\n",
    "\n",
    "People often write:\n",
    "\n",
    "```python\n",
    "while condition:\n",
    "    body\n",
    "post-code\n",
    "```"
   ]
  },
  {
   "cell_type": "code",
   "execution_count": 1,
   "id": "8388d6fa-cb0d-44b9-9aa5-d6dd4f6dc644",
   "metadata": {},
   "outputs": [
    {
     "name": "stdout",
     "output_type": "stream",
     "text": [
      "n= 8 r= 9\n",
      "n= 7 r= 72\n",
      "n= 6 r= 504\n",
      "n= 5 r= 3024\n",
      "n= 4 r= 15120\n",
      "n= 3 r= 60480\n",
      "n= 2 r= 181440\n",
      "n= 1 r= 362880\n",
      "n= 0 r= 362880\n",
      "The end\n"
     ]
    }
   ],
   "source": [
    "n=9\n",
    "r=1\n",
    "\n",
    "while n>0:  ## condition\n",
    "    r = r*n  ## body\n",
    "    n = n-1  ## body\n",
    "    print('n=', n, 'r=', r) ## body\n",
    "print('The end') ## post - code"
   ]
  },
  {
   "cell_type": "code",
   "execution_count": null,
   "id": "851e7ab2-f7d8-4692-a4d3-8348fa92b3c0",
   "metadata": {},
   "outputs": [],
   "source": []
  }
 ],
 "metadata": {
  "kernelspec": {
   "display_name": "Python 3 (ipykernel)",
   "language": "python",
   "name": "python3"
  },
  "language_info": {
   "codemirror_mode": {
    "name": "ipython",
    "version": 3
   },
   "file_extension": ".py",
   "mimetype": "text/x-python",
   "name": "python",
   "nbconvert_exporter": "python",
   "pygments_lexer": "ipython3",
   "version": "3.9.7"
  }
 },
 "nbformat": 4,
 "nbformat_minor": 5
}
